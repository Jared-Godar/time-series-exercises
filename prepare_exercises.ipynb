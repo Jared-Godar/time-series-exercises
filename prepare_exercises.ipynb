{
 "cells": [
  {
   "cell_type": "markdown",
   "metadata": {},
   "source": [
    "\n",
    "# Exercises\n",
    "The end result of this exercise should be a file named `prepare.py`.\n",
    "\n",
    "**Using your store items data:**\n"
   ]
  },
  {
   "cell_type": "code",
   "execution_count": 1,
   "metadata": {},
   "outputs": [],
   "source": [
    "import pandas as pd\n",
    "from datetime import timedelta, datetime\n",
    "import numpy as np\n",
    "import matplotlib.pyplot as plt\n",
    "import seaborn as sns\n",
    "import statsmodels.api as sm\n",
    "\n",
    "import warnings\n",
    "warnings.filterwarnings(\"ignore\")\n",
    "\n",
    "from acquire import get_store_data\n",
    "\n",
    "# plotting defaults\n",
    "plt.rc('figure', figsize=(13, 7))\n",
    "plt.style.use('seaborn-whitegrid')\n",
    "plt.rc('font', size=16)"
   ]
  },
  {
   "cell_type": "code",
   "execution_count": 2,
   "metadata": {},
   "outputs": [
    {
     "name": "stdout",
     "output_type": "stream",
     "text": [
      "Data is cached. Reading from .csv files\n",
      "Items data acquired...\n",
      "Stores data acquired...\n",
      "Sales data acquired...\n",
      "Acquisition complete\n"
     ]
    },
    {
     "data": {
      "text/html": [
       "<div><div id=255acf20-0f77-4962-92c3-acfcfa8aee6e style=\"display:none; background-color:#9D6CFF; color:white; width:200px; height:30px; padding-left:5px; border-radius:4px; flex-direction:row; justify-content:space-around; align-items:center;\" onmouseover=\"this.style.backgroundColor='#BA9BF8'\" onmouseout=\"this.style.backgroundColor='#9D6CFF'\" onclick=\"window.commands?.execute('create-mitosheet-from-dataframe-output');\">See Full Dataframe in Mito</div> <script> if (window.commands.hasCommand('create-mitosheet-from-dataframe-output')) document.getElementById('255acf20-0f77-4962-92c3-acfcfa8aee6e').style.display = 'flex' </script> <table border=\"1\" class=\"dataframe\">\n",
       "  <thead>\n",
       "    <tr style=\"text-align: right;\">\n",
       "      <th></th>\n",
       "      <th>Unnamed: 0_x</th>\n",
       "      <th>sale_amount</th>\n",
       "      <th>sale_date</th>\n",
       "      <th>sale_id</th>\n",
       "      <th>Unnamed: 0_y</th>\n",
       "      <th>item_brand</th>\n",
       "      <th>item_id</th>\n",
       "      <th>item_name</th>\n",
       "      <th>item_price</th>\n",
       "      <th>item_upc12</th>\n",
       "      <th>item_upc14</th>\n",
       "      <th>Unnamed: 0</th>\n",
       "      <th>store_address</th>\n",
       "      <th>store_city</th>\n",
       "      <th>store_id</th>\n",
       "      <th>store_state</th>\n",
       "      <th>store_zipcode</th>\n",
       "    </tr>\n",
       "  </thead>\n",
       "  <tbody>\n",
       "    <tr>\n",
       "      <th>0</th>\n",
       "      <td>0</td>\n",
       "      <td>13.0</td>\n",
       "      <td>Tue, 01 Jan 2013 00:00:00 GMT</td>\n",
       "      <td>1</td>\n",
       "      <td>0</td>\n",
       "      <td>Riceland</td>\n",
       "      <td>1</td>\n",
       "      <td>Riceland American Jazmine Rice</td>\n",
       "      <td>0.84</td>\n",
       "      <td>35200264013</td>\n",
       "      <td>35200264013</td>\n",
       "      <td>0</td>\n",
       "      <td>12125 Alamo Ranch Pkwy</td>\n",
       "      <td>San Antonio</td>\n",
       "      <td>1</td>\n",
       "      <td>TX</td>\n",
       "      <td>78253</td>\n",
       "    </tr>\n",
       "    <tr>\n",
       "      <th>1</th>\n",
       "      <td>1</td>\n",
       "      <td>11.0</td>\n",
       "      <td>Wed, 02 Jan 2013 00:00:00 GMT</td>\n",
       "      <td>2</td>\n",
       "      <td>0</td>\n",
       "      <td>Riceland</td>\n",
       "      <td>1</td>\n",
       "      <td>Riceland American Jazmine Rice</td>\n",
       "      <td>0.84</td>\n",
       "      <td>35200264013</td>\n",
       "      <td>35200264013</td>\n",
       "      <td>0</td>\n",
       "      <td>12125 Alamo Ranch Pkwy</td>\n",
       "      <td>San Antonio</td>\n",
       "      <td>1</td>\n",
       "      <td>TX</td>\n",
       "      <td>78253</td>\n",
       "    </tr>\n",
       "    <tr>\n",
       "      <th>2</th>\n",
       "      <td>2</td>\n",
       "      <td>14.0</td>\n",
       "      <td>Thu, 03 Jan 2013 00:00:00 GMT</td>\n",
       "      <td>3</td>\n",
       "      <td>0</td>\n",
       "      <td>Riceland</td>\n",
       "      <td>1</td>\n",
       "      <td>Riceland American Jazmine Rice</td>\n",
       "      <td>0.84</td>\n",
       "      <td>35200264013</td>\n",
       "      <td>35200264013</td>\n",
       "      <td>0</td>\n",
       "      <td>12125 Alamo Ranch Pkwy</td>\n",
       "      <td>San Antonio</td>\n",
       "      <td>1</td>\n",
       "      <td>TX</td>\n",
       "      <td>78253</td>\n",
       "    </tr>\n",
       "  </tbody>\n",
       "</table></div>"
      ],
      "text/plain": [
       "   Unnamed: 0_x  sale_amount                      sale_date  sale_id  \\\n",
       "0             0         13.0  Tue, 01 Jan 2013 00:00:00 GMT        1   \n",
       "1             1         11.0  Wed, 02 Jan 2013 00:00:00 GMT        2   \n",
       "2             2         14.0  Thu, 03 Jan 2013 00:00:00 GMT        3   \n",
       "\n",
       "   Unnamed: 0_y item_brand  item_id                       item_name  \\\n",
       "0             0   Riceland        1  Riceland American Jazmine Rice   \n",
       "1             0   Riceland        1  Riceland American Jazmine Rice   \n",
       "2             0   Riceland        1  Riceland American Jazmine Rice   \n",
       "\n",
       "   item_price   item_upc12   item_upc14  Unnamed: 0           store_address  \\\n",
       "0        0.84  35200264013  35200264013           0  12125 Alamo Ranch Pkwy   \n",
       "1        0.84  35200264013  35200264013           0  12125 Alamo Ranch Pkwy   \n",
       "2        0.84  35200264013  35200264013           0  12125 Alamo Ranch Pkwy   \n",
       "\n",
       "    store_city  store_id store_state  store_zipcode  \n",
       "0  San Antonio         1          TX          78253  \n",
       "1  San Antonio         1          TX          78253  \n",
       "2  San Antonio         1          TX          78253  "
      ]
     },
     "execution_count": 2,
     "metadata": {},
     "output_type": "execute_result"
    }
   ],
   "source": [
    "df = get_store_data()\n",
    "df.head(3)"
   ]
  },
  {
   "cell_type": "markdown",
   "metadata": {},
   "source": [
    "1. Convert date column to datetime format.\n"
   ]
  },
  {
   "cell_type": "code",
   "execution_count": 3,
   "metadata": {},
   "outputs": [],
   "source": [
    "# Reassign the sale_date column to be a datetime type\n",
    "df.sale_date = pd.to_datetime(df.sale_date)\n",
    "\n",
    "# Sort rows by the date and then set the index as that date\n",
    "df = df.set_index(\"sale_date\").sort_index()"
   ]
  },
  {
   "cell_type": "markdown",
   "metadata": {},
   "source": [
    "2. Plot the distribution of sale_amount and item_price.\n"
   ]
  },
  {
   "cell_type": "code",
   "execution_count": 4,
   "metadata": {},
   "outputs": [
    {
     "data": {
      "text/html": [
       "<div><div id=acaf494e-f5a3-424b-8d80-ed8f863094aa style=\"display:none; background-color:#9D6CFF; color:white; width:200px; height:30px; padding-left:5px; border-radius:4px; flex-direction:row; justify-content:space-around; align-items:center;\" onmouseover=\"this.style.backgroundColor='#BA9BF8'\" onmouseout=\"this.style.backgroundColor='#9D6CFF'\" onclick=\"window.commands?.execute('create-mitosheet-from-dataframe-output');\">See Full Dataframe in Mito</div> <script> if (window.commands.hasCommand('create-mitosheet-from-dataframe-output')) document.getElementById('acaf494e-f5a3-424b-8d80-ed8f863094aa').style.display = 'flex' </script> <table border=\"1\" class=\"dataframe\">\n",
       "  <thead>\n",
       "    <tr style=\"text-align: right;\">\n",
       "      <th></th>\n",
       "      <th>Unnamed: 0_x</th>\n",
       "      <th>sale_amount</th>\n",
       "      <th>sale_id</th>\n",
       "      <th>Unnamed: 0_y</th>\n",
       "      <th>item_brand</th>\n",
       "      <th>item_id</th>\n",
       "      <th>item_name</th>\n",
       "      <th>item_price</th>\n",
       "      <th>item_upc12</th>\n",
       "      <th>item_upc14</th>\n",
       "      <th>Unnamed: 0</th>\n",
       "      <th>store_address</th>\n",
       "      <th>store_city</th>\n",
       "      <th>store_id</th>\n",
       "      <th>store_state</th>\n",
       "      <th>store_zipcode</th>\n",
       "    </tr>\n",
       "    <tr>\n",
       "      <th>sale_date</th>\n",
       "      <th></th>\n",
       "      <th></th>\n",
       "      <th></th>\n",
       "      <th></th>\n",
       "      <th></th>\n",
       "      <th></th>\n",
       "      <th></th>\n",
       "      <th></th>\n",
       "      <th></th>\n",
       "      <th></th>\n",
       "      <th></th>\n",
       "      <th></th>\n",
       "      <th></th>\n",
       "      <th></th>\n",
       "      <th></th>\n",
       "      <th></th>\n",
       "    </tr>\n",
       "  </thead>\n",
       "  <tbody>\n",
       "    <tr>\n",
       "      <th>2013-01-01 00:00:00+00:00</th>\n",
       "      <td>0</td>\n",
       "      <td>13.0</td>\n",
       "      <td>1</td>\n",
       "      <td>0</td>\n",
       "      <td>Riceland</td>\n",
       "      <td>1</td>\n",
       "      <td>Riceland American Jazmine Rice</td>\n",
       "      <td>0.84</td>\n",
       "      <td>35200264013</td>\n",
       "      <td>35200264013</td>\n",
       "      <td>0</td>\n",
       "      <td>12125 Alamo Ranch Pkwy</td>\n",
       "      <td>San Antonio</td>\n",
       "      <td>1</td>\n",
       "      <td>TX</td>\n",
       "      <td>78253</td>\n",
       "    </tr>\n",
       "    <tr>\n",
       "      <th>2013-01-01 00:00:00+00:00</th>\n",
       "      <td>211816</td>\n",
       "      <td>26.0</td>\n",
       "      <td>211817</td>\n",
       "      <td>11</td>\n",
       "      <td>Mueller</td>\n",
       "      <td>12</td>\n",
       "      <td>Mueller Sport Care Basic Support Level Medium Elastic Knee Support</td>\n",
       "      <td>8.40</td>\n",
       "      <td>74676640211</td>\n",
       "      <td>74676640211</td>\n",
       "      <td>6</td>\n",
       "      <td>12018 Perrin Beitel Rd</td>\n",
       "      <td>San Antonio</td>\n",
       "      <td>7</td>\n",
       "      <td>TX</td>\n",
       "      <td>78217</td>\n",
       "    </tr>\n",
       "    <tr>\n",
       "      <th>2013-01-01 00:00:00+00:00</th>\n",
       "      <td>832656</td>\n",
       "      <td>27.0</td>\n",
       "      <td>832657</td>\n",
       "      <td>45</td>\n",
       "      <td>Mama Marys</td>\n",
       "      <td>46</td>\n",
       "      <td>Pizza Sauce</td>\n",
       "      <td>4.65</td>\n",
       "      <td>35457770664</td>\n",
       "      <td>35457770664</td>\n",
       "      <td>6</td>\n",
       "      <td>12018 Perrin Beitel Rd</td>\n",
       "      <td>San Antonio</td>\n",
       "      <td>7</td>\n",
       "      <td>TX</td>\n",
       "      <td>78217</td>\n",
       "    </tr>\n",
       "    <tr>\n",
       "      <th>2013-01-01 00:00:00+00:00</th>\n",
       "      <td>213642</td>\n",
       "      <td>54.0</td>\n",
       "      <td>213643</td>\n",
       "      <td>11</td>\n",
       "      <td>Mueller</td>\n",
       "      <td>12</td>\n",
       "      <td>Mueller Sport Care Basic Support Level Medium Elastic Knee Support</td>\n",
       "      <td>8.40</td>\n",
       "      <td>74676640211</td>\n",
       "      <td>74676640211</td>\n",
       "      <td>7</td>\n",
       "      <td>15000 San Pedro Ave</td>\n",
       "      <td>San Antonio</td>\n",
       "      <td>8</td>\n",
       "      <td>TX</td>\n",
       "      <td>78232</td>\n",
       "    </tr>\n",
       "    <tr>\n",
       "      <th>2013-01-01 00:00:00+00:00</th>\n",
       "      <td>215468</td>\n",
       "      <td>35.0</td>\n",
       "      <td>215469</td>\n",
       "      <td>11</td>\n",
       "      <td>Mueller</td>\n",
       "      <td>12</td>\n",
       "      <td>Mueller Sport Care Basic Support Level Medium Elastic Knee Support</td>\n",
       "      <td>8.40</td>\n",
       "      <td>74676640211</td>\n",
       "      <td>74676640211</td>\n",
       "      <td>8</td>\n",
       "      <td>735 SW Military Dr</td>\n",
       "      <td>San Antonio</td>\n",
       "      <td>9</td>\n",
       "      <td>TX</td>\n",
       "      <td>78221</td>\n",
       "    </tr>\n",
       "  </tbody>\n",
       "</table></div>"
      ],
      "text/plain": [
       "                           Unnamed: 0_x  sale_amount  sale_id  Unnamed: 0_y  \\\n",
       "sale_date                                                                     \n",
       "2013-01-01 00:00:00+00:00             0         13.0        1             0   \n",
       "2013-01-01 00:00:00+00:00        211816         26.0   211817            11   \n",
       "2013-01-01 00:00:00+00:00        832656         27.0   832657            45   \n",
       "2013-01-01 00:00:00+00:00        213642         54.0   213643            11   \n",
       "2013-01-01 00:00:00+00:00        215468         35.0   215469            11   \n",
       "\n",
       "                           item_brand  item_id  \\\n",
       "sale_date                                        \n",
       "2013-01-01 00:00:00+00:00    Riceland        1   \n",
       "2013-01-01 00:00:00+00:00     Mueller       12   \n",
       "2013-01-01 00:00:00+00:00  Mama Marys       46   \n",
       "2013-01-01 00:00:00+00:00     Mueller       12   \n",
       "2013-01-01 00:00:00+00:00     Mueller       12   \n",
       "\n",
       "                                                                   item_name  \\\n",
       "sale_date                                                                      \n",
       "2013-01-01 00:00:00+00:00                     Riceland American Jazmine Rice   \n",
       "2013-01-01 00:00:00+00:00  Mueller Sport Care Basic Support Level Medium ...   \n",
       "2013-01-01 00:00:00+00:00                                        Pizza Sauce   \n",
       "2013-01-01 00:00:00+00:00  Mueller Sport Care Basic Support Level Medium ...   \n",
       "2013-01-01 00:00:00+00:00  Mueller Sport Care Basic Support Level Medium ...   \n",
       "\n",
       "                           item_price   item_upc12   item_upc14  Unnamed: 0  \\\n",
       "sale_date                                                                     \n",
       "2013-01-01 00:00:00+00:00        0.84  35200264013  35200264013           0   \n",
       "2013-01-01 00:00:00+00:00        8.40  74676640211  74676640211           6   \n",
       "2013-01-01 00:00:00+00:00        4.65  35457770664  35457770664           6   \n",
       "2013-01-01 00:00:00+00:00        8.40  74676640211  74676640211           7   \n",
       "2013-01-01 00:00:00+00:00        8.40  74676640211  74676640211           8   \n",
       "\n",
       "                                    store_address   store_city  store_id  \\\n",
       "sale_date                                                                  \n",
       "2013-01-01 00:00:00+00:00  12125 Alamo Ranch Pkwy  San Antonio         1   \n",
       "2013-01-01 00:00:00+00:00  12018 Perrin Beitel Rd  San Antonio         7   \n",
       "2013-01-01 00:00:00+00:00  12018 Perrin Beitel Rd  San Antonio         7   \n",
       "2013-01-01 00:00:00+00:00     15000 San Pedro Ave  San Antonio         8   \n",
       "2013-01-01 00:00:00+00:00      735 SW Military Dr  San Antonio         9   \n",
       "\n",
       "                          store_state  store_zipcode  \n",
       "sale_date                                             \n",
       "2013-01-01 00:00:00+00:00          TX          78253  \n",
       "2013-01-01 00:00:00+00:00          TX          78217  \n",
       "2013-01-01 00:00:00+00:00          TX          78217  \n",
       "2013-01-01 00:00:00+00:00          TX          78232  \n",
       "2013-01-01 00:00:00+00:00          TX          78221  "
      ]
     },
     "execution_count": 4,
     "metadata": {},
     "output_type": "execute_result"
    }
   ],
   "source": [
    "df.head()"
   ]
  },
  {
   "cell_type": "code",
   "execution_count": 7,
   "metadata": {},
   "outputs": [
    {
     "data": {
      "image/png": "[encoded data removed]",
      "text/plain": [
       "<Figure size 936x504 with 2 Axes>"
      ]
     },
     "metadata": {},
     "output_type": "display_data"
    }
   ],
   "source": [
    "#sns.displot(data=df, x='sale_amount')\n",
    "df[['sale_amount', 'item_price']].hist();"
   ]
  },
  {
   "cell_type": "code",
   "execution_count": 9,
   "metadata": {},
   "outputs": [],
   "source": [
    "#sns.displot(data=df, x='item_price')"
   ]
  },
  {
   "cell_type": "markdown",
   "metadata": {},
   "source": [
    "3. Set the index to be the datetime variable.\n"
   ]
  },
  {
   "cell_type": "code",
   "execution_count": null,
   "metadata": {},
   "outputs": [],
   "source": [
    "#Completed above"
   ]
  },
  {
   "cell_type": "markdown",
   "metadata": {},
   "source": [
    "4. Add a 'month' and 'day of week' column to your dataframe.\n"
   ]
  },
  {
   "cell_type": "code",
   "execution_count": 12,
   "metadata": {},
   "outputs": [],
   "source": [
    "df['month'] = df.index.month\n",
    "df['weekday'] = df.index.day_name()\n"
   ]
  },
  {
   "cell_type": "code",
   "execution_count": 13,
   "metadata": {},
   "outputs": [
    {
     "data": {
      "text/html": [
       "<div><div id=0464ac8d-c1f9-49d1-8a99-6e880f517a1d style=\"display:none; background-color:#9D6CFF; color:white; width:200px; height:30px; padding-left:5px; border-radius:4px; flex-direction:row; justify-content:space-around; align-items:center;\" onmouseover=\"this.style.backgroundColor='#BA9BF8'\" onmouseout=\"this.style.backgroundColor='#9D6CFF'\" onclick=\"window.commands?.execute('create-mitosheet-from-dataframe-output');\">See Full Dataframe in Mito</div> <script> if (window.commands.hasCommand('create-mitosheet-from-dataframe-output')) document.getElementById('0464ac8d-c1f9-49d1-8a99-6e880f517a1d').style.display = 'flex' </script> <table border=\"1\" class=\"dataframe\">\n",
       "  <thead>\n",
       "    <tr style=\"text-align: right;\">\n",
       "      <th></th>\n",
       "      <th>Unnamed: 0_x</th>\n",
       "      <th>sale_amount</th>\n",
       "      <th>sale_id</th>\n",
       "      <th>Unnamed: 0_y</th>\n",
       "      <th>item_brand</th>\n",
       "      <th>item_id</th>\n",
       "      <th>item_name</th>\n",
       "      <th>item_price</th>\n",
       "      <th>item_upc12</th>\n",
       "      <th>item_upc14</th>\n",
       "      <th>Unnamed: 0</th>\n",
       "      <th>store_address</th>\n",
       "      <th>store_city</th>\n",
       "      <th>store_id</th>\n",
       "      <th>store_state</th>\n",
       "      <th>store_zipcode</th>\n",
       "      <th>month</th>\n",
       "      <th>weekday</th>\n",
       "    </tr>\n",
       "    <tr>\n",
       "      <th>sale_date</th>\n",
       "      <th></th>\n",
       "      <th></th>\n",
       "      <th></th>\n",
       "      <th></th>\n",
       "      <th></th>\n",
       "      <th></th>\n",
       "      <th></th>\n",
       "      <th></th>\n",
       "      <th></th>\n",
       "      <th></th>\n",
       "      <th></th>\n",
       "      <th></th>\n",
       "      <th></th>\n",
       "      <th></th>\n",
       "      <th></th>\n",
       "      <th></th>\n",
       "      <th></th>\n",
       "      <th></th>\n",
       "    </tr>\n",
       "  </thead>\n",
       "  <tbody>\n",
       "    <tr>\n",
       "      <th>2017-11-11 00:00:00+00:00</th>\n",
       "      <td>83945</td>\n",
       "      <td>20.0</td>\n",
       "      <td>83946</td>\n",
       "      <td>4</td>\n",
       "      <td>Back To Nature</td>\n",
       "      <td>5</td>\n",
       "      <td>Back To Nature Gluten Free White Cheddar Rice Thin Crackers</td>\n",
       "      <td>2.61</td>\n",
       "      <td>759283100036</td>\n",
       "      <td>759283100036</td>\n",
       "      <td>5</td>\n",
       "      <td>1015 S WW White Rd</td>\n",
       "      <td>San Antonio</td>\n",
       "      <td>6</td>\n",
       "      <td>TX</td>\n",
       "      <td>78220</td>\n",
       "      <td>11</td>\n",
       "      <td>Saturday</td>\n",
       "    </tr>\n",
       "    <tr>\n",
       "      <th>2014-06-01 00:00:00+00:00</th>\n",
       "      <td>119206</td>\n",
       "      <td>66.0</td>\n",
       "      <td>119207</td>\n",
       "      <td>6</td>\n",
       "      <td>Twinings Of London</td>\n",
       "      <td>7</td>\n",
       "      <td>Twinings Of London Classics Lady Grey Tea - 20 Ct</td>\n",
       "      <td>9.64</td>\n",
       "      <td>70177154004</td>\n",
       "      <td>70177154004</td>\n",
       "      <td>5</td>\n",
       "      <td>1015 S WW White Rd</td>\n",
       "      <td>San Antonio</td>\n",
       "      <td>6</td>\n",
       "      <td>TX</td>\n",
       "      <td>78220</td>\n",
       "      <td>6</td>\n",
       "      <td>Sunday</td>\n",
       "    </tr>\n",
       "    <tr>\n",
       "      <th>2017-06-23 00:00:00+00:00</th>\n",
       "      <td>604214</td>\n",
       "      <td>26.0</td>\n",
       "      <td>604215</td>\n",
       "      <td>33</td>\n",
       "      <td>Halls</td>\n",
       "      <td>34</td>\n",
       "      <td>Halls Menthol Cough Suppresant/oral Anesthetic Drops Honey-lemon - 30 Ct</td>\n",
       "      <td>4.17</td>\n",
       "      <td>312546628694</td>\n",
       "      <td>312546628694</td>\n",
       "      <td>0</td>\n",
       "      <td>12125 Alamo Ranch Pkwy</td>\n",
       "      <td>San Antonio</td>\n",
       "      <td>1</td>\n",
       "      <td>TX</td>\n",
       "      <td>78253</td>\n",
       "      <td>6</td>\n",
       "      <td>Friday</td>\n",
       "    </tr>\n",
       "    <tr>\n",
       "      <th>2015-04-28 00:00:00+00:00</th>\n",
       "      <td>630817</td>\n",
       "      <td>55.0</td>\n",
       "      <td>630818</td>\n",
       "      <td>34</td>\n",
       "      <td>Natures Way</td>\n",
       "      <td>35</td>\n",
       "      <td>Natures Way Forskohlii - 60 Ct</td>\n",
       "      <td>5.19</td>\n",
       "      <td>33674100066</td>\n",
       "      <td>33674100066</td>\n",
       "      <td>5</td>\n",
       "      <td>1015 S WW White Rd</td>\n",
       "      <td>San Antonio</td>\n",
       "      <td>6</td>\n",
       "      <td>TX</td>\n",
       "      <td>78220</td>\n",
       "      <td>4</td>\n",
       "      <td>Tuesday</td>\n",
       "    </tr>\n",
       "    <tr>\n",
       "      <th>2013-11-17 00:00:00+00:00</th>\n",
       "      <td>738024</td>\n",
       "      <td>14.0</td>\n",
       "      <td>738025</td>\n",
       "      <td>40</td>\n",
       "      <td>P.f. Changs</td>\n",
       "      <td>41</td>\n",
       "      <td>P.f. Changs Home Menu Meal For Two Beef With Broccoli</td>\n",
       "      <td>5.62</td>\n",
       "      <td>31000670016</td>\n",
       "      <td>31000670016</td>\n",
       "      <td>4</td>\n",
       "      <td>1520 Austin Hwy</td>\n",
       "      <td>San Antonio</td>\n",
       "      <td>5</td>\n",
       "      <td>TX</td>\n",
       "      <td>78218</td>\n",
       "      <td>11</td>\n",
       "      <td>Sunday</td>\n",
       "    </tr>\n",
       "    <tr>\n",
       "      <th>2014-05-30 00:00:00+00:00</th>\n",
       "      <td>478926</td>\n",
       "      <td>26.0</td>\n",
       "      <td>478927</td>\n",
       "      <td>26</td>\n",
       "      <td>Morton</td>\n",
       "      <td>27</td>\n",
       "      <td>Morton Kosher Salt Coarse</td>\n",
       "      <td>6.01</td>\n",
       "      <td>24600017008</td>\n",
       "      <td>24600017008</td>\n",
       "      <td>2</td>\n",
       "      <td>2118 Fredericksburg Rdj</td>\n",
       "      <td>San Antonio</td>\n",
       "      <td>3</td>\n",
       "      <td>TX</td>\n",
       "      <td>78201</td>\n",
       "      <td>5</td>\n",
       "      <td>Friday</td>\n",
       "    </tr>\n",
       "    <tr>\n",
       "      <th>2015-04-13 00:00:00+00:00</th>\n",
       "      <td>451854</td>\n",
       "      <td>88.0</td>\n",
       "      <td>451855</td>\n",
       "      <td>24</td>\n",
       "      <td>Hood</td>\n",
       "      <td>25</td>\n",
       "      <td>Hood Latte Iced Coffee Drink Vanilla Latte</td>\n",
       "      <td>2.43</td>\n",
       "      <td>44100117428</td>\n",
       "      <td>44100117428</td>\n",
       "      <td>7</td>\n",
       "      <td>15000 San Pedro Ave</td>\n",
       "      <td>San Antonio</td>\n",
       "      <td>8</td>\n",
       "      <td>TX</td>\n",
       "      <td>78232</td>\n",
       "      <td>4</td>\n",
       "      <td>Monday</td>\n",
       "    </tr>\n",
       "    <tr>\n",
       "      <th>2014-09-11 00:00:00+00:00</th>\n",
       "      <td>320168</td>\n",
       "      <td>65.0</td>\n",
       "      <td>320169</td>\n",
       "      <td>17</td>\n",
       "      <td>Scotch</td>\n",
       "      <td>18</td>\n",
       "      <td>Scotch Removable Clear Mounting Squares - 35 Ct</td>\n",
       "      <td>4.39</td>\n",
       "      <td>21200725340</td>\n",
       "      <td>21200725340</td>\n",
       "      <td>5</td>\n",
       "      <td>1015 S WW White Rd</td>\n",
       "      <td>San Antonio</td>\n",
       "      <td>6</td>\n",
       "      <td>TX</td>\n",
       "      <td>78220</td>\n",
       "      <td>9</td>\n",
       "      <td>Thursday</td>\n",
       "    </tr>\n",
       "    <tr>\n",
       "      <th>2013-12-14 00:00:00+00:00</th>\n",
       "      <td>400241</td>\n",
       "      <td>61.0</td>\n",
       "      <td>400242</td>\n",
       "      <td>21</td>\n",
       "      <td>Betty Crocker</td>\n",
       "      <td>22</td>\n",
       "      <td>Betty Crocker Twin Pack Real Potatoes Scalloped 2 Pouches For 2 Meals - 2 Pk</td>\n",
       "      <td>7.31</td>\n",
       "      <td>16000288829</td>\n",
       "      <td>16000288829</td>\n",
       "      <td>9</td>\n",
       "      <td>8503 NW Military Hwy</td>\n",
       "      <td>San Antonio</td>\n",
       "      <td>10</td>\n",
       "      <td>TX</td>\n",
       "      <td>78231</td>\n",
       "      <td>12</td>\n",
       "      <td>Saturday</td>\n",
       "    </tr>\n",
       "    <tr>\n",
       "      <th>2016-05-11 00:00:00+00:00</th>\n",
       "      <td>346340</td>\n",
       "      <td>55.0</td>\n",
       "      <td>346341</td>\n",
       "      <td>18</td>\n",
       "      <td>Careone</td>\n",
       "      <td>19</td>\n",
       "      <td>Careone Family Comb Set - 8 Ct</td>\n",
       "      <td>0.74</td>\n",
       "      <td>41520035646</td>\n",
       "      <td>41520035646</td>\n",
       "      <td>9</td>\n",
       "      <td>8503 NW Military Hwy</td>\n",
       "      <td>San Antonio</td>\n",
       "      <td>10</td>\n",
       "      <td>TX</td>\n",
       "      <td>78231</td>\n",
       "      <td>5</td>\n",
       "      <td>Wednesday</td>\n",
       "    </tr>\n",
       "  </tbody>\n",
       "</table></div>"
      ],
      "text/plain": [
       "                           Unnamed: 0_x  sale_amount  sale_id  Unnamed: 0_y  \\\n",
       "sale_date                                                                     \n",
       "2017-11-11 00:00:00+00:00         83945         20.0    83946             4   \n",
       "2014-06-01 00:00:00+00:00        119206         66.0   119207             6   \n",
       "2017-06-23 00:00:00+00:00        604214         26.0   604215            33   \n",
       "2015-04-28 00:00:00+00:00        630817         55.0   630818            34   \n",
       "2013-11-17 00:00:00+00:00        738024         14.0   738025            40   \n",
       "2014-05-30 00:00:00+00:00        478926         26.0   478927            26   \n",
       "2015-04-13 00:00:00+00:00        451854         88.0   451855            24   \n",
       "2014-09-11 00:00:00+00:00        320168         65.0   320169            17   \n",
       "2013-12-14 00:00:00+00:00        400241         61.0   400242            21   \n",
       "2016-05-11 00:00:00+00:00        346340         55.0   346341            18   \n",
       "\n",
       "                                   item_brand  item_id  \\\n",
       "sale_date                                                \n",
       "2017-11-11 00:00:00+00:00      Back To Nature        5   \n",
       "2014-06-01 00:00:00+00:00  Twinings Of London        7   \n",
       "2017-06-23 00:00:00+00:00               Halls       34   \n",
       "2015-04-28 00:00:00+00:00         Natures Way       35   \n",
       "2013-11-17 00:00:00+00:00         P.f. Changs       41   \n",
       "2014-05-30 00:00:00+00:00              Morton       27   \n",
       "2015-04-13 00:00:00+00:00                Hood       25   \n",
       "2014-09-11 00:00:00+00:00              Scotch       18   \n",
       "2013-12-14 00:00:00+00:00       Betty Crocker       22   \n",
       "2016-05-11 00:00:00+00:00             Careone       19   \n",
       "\n",
       "                                                                   item_name  \\\n",
       "sale_date                                                                      \n",
       "2017-11-11 00:00:00+00:00  Back To Nature Gluten Free White Cheddar Rice ...   \n",
       "2014-06-01 00:00:00+00:00  Twinings Of London Classics Lady Grey Tea - 20 Ct   \n",
       "2017-06-23 00:00:00+00:00  Halls Menthol Cough Suppresant/oral Anesthetic...   \n",
       "2015-04-28 00:00:00+00:00                     Natures Way Forskohlii - 60 Ct   \n",
       "2013-11-17 00:00:00+00:00  P.f. Changs Home Menu Meal For Two Beef With B...   \n",
       "2014-05-30 00:00:00+00:00                          Morton Kosher Salt Coarse   \n",
       "2015-04-13 00:00:00+00:00         Hood Latte Iced Coffee Drink Vanilla Latte   \n",
       "2014-09-11 00:00:00+00:00    Scotch Removable Clear Mounting Squares - 35 Ct   \n",
       "2013-12-14 00:00:00+00:00  Betty Crocker Twin Pack Real Potatoes Scallope...   \n",
       "2016-05-11 00:00:00+00:00                     Careone Family Comb Set - 8 Ct   \n",
       "\n",
       "                           item_price    item_upc12    item_upc14  Unnamed: 0  \\\n",
       "sale_date                                                                       \n",
       "2017-11-11 00:00:00+00:00        2.61  759283100036  759283100036           5   \n",
       "2014-06-01 00:00:00+00:00        9.64   70177154004   70177154004           5   \n",
       "2017-06-23 00:00:00+00:00        4.17  312546628694  312546628694           0   \n",
       "2015-04-28 00:00:00+00:00        5.19   33674100066   33674100066           5   \n",
       "2013-11-17 00:00:00+00:00        5.62   31000670016   31000670016           4   \n",
       "2014-05-30 00:00:00+00:00        6.01   24600017008   24600017008           2   \n",
       "2015-04-13 00:00:00+00:00        2.43   44100117428   44100117428           7   \n",
       "2014-09-11 00:00:00+00:00        4.39   21200725340   21200725340           5   \n",
       "2013-12-14 00:00:00+00:00        7.31   16000288829   16000288829           9   \n",
       "2016-05-11 00:00:00+00:00        0.74   41520035646   41520035646           9   \n",
       "\n",
       "                                     store_address   store_city  store_id  \\\n",
       "sale_date                                                                   \n",
       "2017-11-11 00:00:00+00:00       1015 S WW White Rd  San Antonio         6   \n",
       "2014-06-01 00:00:00+00:00       1015 S WW White Rd  San Antonio         6   \n",
       "2017-06-23 00:00:00+00:00   12125 Alamo Ranch Pkwy  San Antonio         1   \n",
       "2015-04-28 00:00:00+00:00       1015 S WW White Rd  San Antonio         6   \n",
       "2013-11-17 00:00:00+00:00          1520 Austin Hwy  San Antonio         5   \n",
       "2014-05-30 00:00:00+00:00  2118 Fredericksburg Rdj  San Antonio         3   \n",
       "2015-04-13 00:00:00+00:00      15000 San Pedro Ave  San Antonio         8   \n",
       "2014-09-11 00:00:00+00:00       1015 S WW White Rd  San Antonio         6   \n",
       "2013-12-14 00:00:00+00:00     8503 NW Military Hwy  San Antonio        10   \n",
       "2016-05-11 00:00:00+00:00     8503 NW Military Hwy  San Antonio        10   \n",
       "\n",
       "                          store_state  store_zipcode  month    weekday  \n",
       "sale_date                                                               \n",
       "2017-11-11 00:00:00+00:00          TX          78220     11   Saturday  \n",
       "2014-06-01 00:00:00+00:00          TX          78220      6     Sunday  \n",
       "2017-06-23 00:00:00+00:00          TX          78253      6     Friday  \n",
       "2015-04-28 00:00:00+00:00          TX          78220      4    Tuesday  \n",
       "2013-11-17 00:00:00+00:00          TX          78218     11     Sunday  \n",
       "2014-05-30 00:00:00+00:00          TX          78201      5     Friday  \n",
       "2015-04-13 00:00:00+00:00          TX          78232      4     Monday  \n",
       "2014-09-11 00:00:00+00:00          TX          78220      9   Thursday  \n",
       "2013-12-14 00:00:00+00:00          TX          78231     12   Saturday  \n",
       "2016-05-11 00:00:00+00:00          TX          78231      5  Wednesday  "
      ]
     },
     "execution_count": 13,
     "metadata": {},
     "output_type": "execute_result"
    }
   ],
   "source": [
    "df.sample(10)"
   ]
  },
  {
   "cell_type": "markdown",
   "metadata": {},
   "source": [
    "5. Add a column to your dataframe, sales_total, which is a derived from sale_amount (total items) and item_price.\n"
   ]
  },
  {
   "cell_type": "code",
   "execution_count": 14,
   "metadata": {},
   "outputs": [
    {
     "name": "stderr",
     "output_type": "stream",
     "text": [
      "NumExpr defaulting to 8 threads.\n"
     ]
    },
    {
     "data": {
      "text/html": [
       "<div><div id=61f360eb-584d-4e8d-a61d-a21f1e1d02f3 style=\"display:none; background-color:#9D6CFF; color:white; width:200px; height:30px; padding-left:5px; border-radius:4px; flex-direction:row; justify-content:space-around; align-items:center;\" onmouseover=\"this.style.backgroundColor='#BA9BF8'\" onmouseout=\"this.style.backgroundColor='#9D6CFF'\" onclick=\"window.commands?.execute('create-mitosheet-from-dataframe-output');\">See Full Dataframe in Mito</div> <script> if (window.commands.hasCommand('create-mitosheet-from-dataframe-output')) document.getElementById('61f360eb-584d-4e8d-a61d-a21f1e1d02f3').style.display = 'flex' </script> <table border=\"1\" class=\"dataframe\">\n",
       "  <thead>\n",
       "    <tr style=\"text-align: right;\">\n",
       "      <th></th>\n",
       "      <th>Unnamed: 0_x</th>\n",
       "      <th>sale_amount</th>\n",
       "      <th>sale_id</th>\n",
       "      <th>Unnamed: 0_y</th>\n",
       "      <th>item_brand</th>\n",
       "      <th>item_id</th>\n",
       "      <th>item_name</th>\n",
       "      <th>item_price</th>\n",
       "      <th>item_upc12</th>\n",
       "      <th>item_upc14</th>\n",
       "      <th>Unnamed: 0</th>\n",
       "      <th>store_address</th>\n",
       "      <th>store_city</th>\n",
       "      <th>store_id</th>\n",
       "      <th>store_state</th>\n",
       "      <th>store_zipcode</th>\n",
       "      <th>month</th>\n",
       "      <th>weekday</th>\n",
       "      <th>sales_total</th>\n",
       "    </tr>\n",
       "    <tr>\n",
       "      <th>sale_date</th>\n",
       "      <th></th>\n",
       "      <th></th>\n",
       "      <th></th>\n",
       "      <th></th>\n",
       "      <th></th>\n",
       "      <th></th>\n",
       "      <th></th>\n",
       "      <th></th>\n",
       "      <th></th>\n",
       "      <th></th>\n",
       "      <th></th>\n",
       "      <th></th>\n",
       "      <th></th>\n",
       "      <th></th>\n",
       "      <th></th>\n",
       "      <th></th>\n",
       "      <th></th>\n",
       "      <th></th>\n",
       "      <th></th>\n",
       "    </tr>\n",
       "  </thead>\n",
       "  <tbody>\n",
       "    <tr>\n",
       "      <th>2014-02-09 00:00:00+00:00</th>\n",
       "      <td>71618</td>\n",
       "      <td>25.0</td>\n",
       "      <td>71619</td>\n",
       "      <td>3</td>\n",
       "      <td>Boars Head</td>\n",
       "      <td>4</td>\n",
       "      <td>Boars Head Sliced White American Cheese - 120 Ct</td>\n",
       "      <td>3.14</td>\n",
       "      <td>208528800007</td>\n",
       "      <td>208528800007</td>\n",
       "      <td>9</td>\n",
       "      <td>8503 NW Military Hwy</td>\n",
       "      <td>San Antonio</td>\n",
       "      <td>10</td>\n",
       "      <td>TX</td>\n",
       "      <td>78231</td>\n",
       "      <td>2</td>\n",
       "      <td>Sunday</td>\n",
       "      <td>78.50</td>\n",
       "    </tr>\n",
       "    <tr>\n",
       "      <th>2013-03-18 00:00:00+00:00</th>\n",
       "      <td>471184</td>\n",
       "      <td>32.0</td>\n",
       "      <td>471185</td>\n",
       "      <td>25</td>\n",
       "      <td>Triaminic</td>\n",
       "      <td>26</td>\n",
       "      <td>Triaminic Syrup Night Time Cold &amp; Cough Grape 4oz</td>\n",
       "      <td>0.98</td>\n",
       "      <td>300436344045</td>\n",
       "      <td>300436344045</td>\n",
       "      <td>8</td>\n",
       "      <td>735 SW Military Dr</td>\n",
       "      <td>San Antonio</td>\n",
       "      <td>9</td>\n",
       "      <td>TX</td>\n",
       "      <td>78221</td>\n",
       "      <td>3</td>\n",
       "      <td>Monday</td>\n",
       "      <td>31.36</td>\n",
       "    </tr>\n",
       "    <tr>\n",
       "      <th>2017-11-27 00:00:00+00:00</th>\n",
       "      <td>516723</td>\n",
       "      <td>78.0</td>\n",
       "      <td>516724</td>\n",
       "      <td>28</td>\n",
       "      <td>Heinz</td>\n",
       "      <td>29</td>\n",
       "      <td>Heinz Tomato Ketchup - 2 Ct</td>\n",
       "      <td>8.65</td>\n",
       "      <td>13000001038</td>\n",
       "      <td>13000001038</td>\n",
       "      <td>2</td>\n",
       "      <td>2118 Fredericksburg Rdj</td>\n",
       "      <td>San Antonio</td>\n",
       "      <td>3</td>\n",
       "      <td>TX</td>\n",
       "      <td>78201</td>\n",
       "      <td>11</td>\n",
       "      <td>Monday</td>\n",
       "      <td>674.70</td>\n",
       "    </tr>\n",
       "    <tr>\n",
       "      <th>2013-11-11 00:00:00+00:00</th>\n",
       "      <td>648544</td>\n",
       "      <td>36.0</td>\n",
       "      <td>648545</td>\n",
       "      <td>35</td>\n",
       "      <td>Deerfields Gluten Free</td>\n",
       "      <td>36</td>\n",
       "      <td>Rice Bran Gluten Free Dinner Rolls Plain</td>\n",
       "      <td>7.95</td>\n",
       "      <td>610358991525</td>\n",
       "      <td>610358991525</td>\n",
       "      <td>5</td>\n",
       "      <td>1015 S WW White Rd</td>\n",
       "      <td>San Antonio</td>\n",
       "      <td>6</td>\n",
       "      <td>TX</td>\n",
       "      <td>78220</td>\n",
       "      <td>11</td>\n",
       "      <td>Monday</td>\n",
       "      <td>286.20</td>\n",
       "    </tr>\n",
       "    <tr>\n",
       "      <th>2013-08-12 00:00:00+00:00</th>\n",
       "      <td>849313</td>\n",
       "      <td>10.0</td>\n",
       "      <td>849314</td>\n",
       "      <td>46</td>\n",
       "      <td>Bear Naked</td>\n",
       "      <td>47</td>\n",
       "      <td>Bear Naked Fit Almond Crisp 100 Percent Natural Energy Cereal</td>\n",
       "      <td>7.38</td>\n",
       "      <td>884623708976</td>\n",
       "      <td>884623708976</td>\n",
       "      <td>5</td>\n",
       "      <td>1015 S WW White Rd</td>\n",
       "      <td>San Antonio</td>\n",
       "      <td>6</td>\n",
       "      <td>TX</td>\n",
       "      <td>78220</td>\n",
       "      <td>8</td>\n",
       "      <td>Monday</td>\n",
       "      <td>73.80</td>\n",
       "    </tr>\n",
       "    <tr>\n",
       "      <th>2014-06-15 00:00:00+00:00</th>\n",
       "      <td>520940</td>\n",
       "      <td>73.0</td>\n",
       "      <td>520941</td>\n",
       "      <td>28</td>\n",
       "      <td>Heinz</td>\n",
       "      <td>29</td>\n",
       "      <td>Heinz Tomato Ketchup - 2 Ct</td>\n",
       "      <td>8.65</td>\n",
       "      <td>13000001038</td>\n",
       "      <td>13000001038</td>\n",
       "      <td>5</td>\n",
       "      <td>1015 S WW White Rd</td>\n",
       "      <td>San Antonio</td>\n",
       "      <td>6</td>\n",
       "      <td>TX</td>\n",
       "      <td>78220</td>\n",
       "      <td>6</td>\n",
       "      <td>Sunday</td>\n",
       "      <td>631.45</td>\n",
       "    </tr>\n",
       "    <tr>\n",
       "      <th>2014-07-08 00:00:00+00:00</th>\n",
       "      <td>626871</td>\n",
       "      <td>85.0</td>\n",
       "      <td>626872</td>\n",
       "      <td>34</td>\n",
       "      <td>Natures Way</td>\n",
       "      <td>35</td>\n",
       "      <td>Natures Way Forskohlii - 60 Ct</td>\n",
       "      <td>5.19</td>\n",
       "      <td>33674100066</td>\n",
       "      <td>33674100066</td>\n",
       "      <td>3</td>\n",
       "      <td>516 S Flores St</td>\n",
       "      <td>San Antonio</td>\n",
       "      <td>4</td>\n",
       "      <td>TX</td>\n",
       "      <td>78204</td>\n",
       "      <td>7</td>\n",
       "      <td>Tuesday</td>\n",
       "      <td>441.15</td>\n",
       "    </tr>\n",
       "    <tr>\n",
       "      <th>2017-10-04 00:00:00+00:00</th>\n",
       "      <td>45561</td>\n",
       "      <td>33.0</td>\n",
       "      <td>45562</td>\n",
       "      <td>2</td>\n",
       "      <td>Earths Best</td>\n",
       "      <td>3</td>\n",
       "      <td>Earths Best Organic Fruit Yogurt Smoothie Mixed Berry</td>\n",
       "      <td>2.43</td>\n",
       "      <td>23923330139</td>\n",
       "      <td>23923330139</td>\n",
       "      <td>4</td>\n",
       "      <td>1520 Austin Hwy</td>\n",
       "      <td>San Antonio</td>\n",
       "      <td>5</td>\n",
       "      <td>TX</td>\n",
       "      <td>78218</td>\n",
       "      <td>10</td>\n",
       "      <td>Wednesday</td>\n",
       "      <td>80.19</td>\n",
       "    </tr>\n",
       "    <tr>\n",
       "      <th>2013-10-03 00:00:00+00:00</th>\n",
       "      <td>758065</td>\n",
       "      <td>37.0</td>\n",
       "      <td>758066</td>\n",
       "      <td>41</td>\n",
       "      <td>Moms Best Naturals</td>\n",
       "      <td>42</td>\n",
       "      <td>Moms Best Naturals Cereal Toasted Cinnamon Squares</td>\n",
       "      <td>2.97</td>\n",
       "      <td>883978129115</td>\n",
       "      <td>883978129115</td>\n",
       "      <td>5</td>\n",
       "      <td>1015 S WW White Rd</td>\n",
       "      <td>San Antonio</td>\n",
       "      <td>6</td>\n",
       "      <td>TX</td>\n",
       "      <td>78220</td>\n",
       "      <td>10</td>\n",
       "      <td>Thursday</td>\n",
       "      <td>109.89</td>\n",
       "    </tr>\n",
       "    <tr>\n",
       "      <th>2017-02-25 00:00:00+00:00</th>\n",
       "      <td>63600</td>\n",
       "      <td>17.0</td>\n",
       "      <td>63601</td>\n",
       "      <td>3</td>\n",
       "      <td>Boars Head</td>\n",
       "      <td>4</td>\n",
       "      <td>Boars Head Sliced White American Cheese - 120 Ct</td>\n",
       "      <td>3.14</td>\n",
       "      <td>208528800007</td>\n",
       "      <td>208528800007</td>\n",
       "      <td>4</td>\n",
       "      <td>1520 Austin Hwy</td>\n",
       "      <td>San Antonio</td>\n",
       "      <td>5</td>\n",
       "      <td>TX</td>\n",
       "      <td>78218</td>\n",
       "      <td>2</td>\n",
       "      <td>Saturday</td>\n",
       "      <td>53.38</td>\n",
       "    </tr>\n",
       "  </tbody>\n",
       "</table></div>"
      ],
      "text/plain": [
       "                           Unnamed: 0_x  sale_amount  sale_id  Unnamed: 0_y  \\\n",
       "sale_date                                                                     \n",
       "2014-02-09 00:00:00+00:00         71618         25.0    71619             3   \n",
       "2013-03-18 00:00:00+00:00        471184         32.0   471185            25   \n",
       "2017-11-27 00:00:00+00:00        516723         78.0   516724            28   \n",
       "2013-11-11 00:00:00+00:00        648544         36.0   648545            35   \n",
       "2013-08-12 00:00:00+00:00        849313         10.0   849314            46   \n",
       "2014-06-15 00:00:00+00:00        520940         73.0   520941            28   \n",
       "2014-07-08 00:00:00+00:00        626871         85.0   626872            34   \n",
       "2017-10-04 00:00:00+00:00         45561         33.0    45562             2   \n",
       "2013-10-03 00:00:00+00:00        758065         37.0   758066            41   \n",
       "2017-02-25 00:00:00+00:00         63600         17.0    63601             3   \n",
       "\n",
       "                                       item_brand  item_id  \\\n",
       "sale_date                                                    \n",
       "2014-02-09 00:00:00+00:00              Boars Head        4   \n",
       "2013-03-18 00:00:00+00:00               Triaminic       26   \n",
       "2017-11-27 00:00:00+00:00                   Heinz       29   \n",
       "2013-11-11 00:00:00+00:00  Deerfields Gluten Free       36   \n",
       "2013-08-12 00:00:00+00:00              Bear Naked       47   \n",
       "2014-06-15 00:00:00+00:00                   Heinz       29   \n",
       "2014-07-08 00:00:00+00:00             Natures Way       35   \n",
       "2017-10-04 00:00:00+00:00             Earths Best        3   \n",
       "2013-10-03 00:00:00+00:00      Moms Best Naturals       42   \n",
       "2017-02-25 00:00:00+00:00              Boars Head        4   \n",
       "\n",
       "                                                                   item_name  \\\n",
       "sale_date                                                                      \n",
       "2014-02-09 00:00:00+00:00   Boars Head Sliced White American Cheese - 120 Ct   \n",
       "2013-03-18 00:00:00+00:00  Triaminic Syrup Night Time Cold & Cough Grape 4oz   \n",
       "2017-11-27 00:00:00+00:00                        Heinz Tomato Ketchup - 2 Ct   \n",
       "2013-11-11 00:00:00+00:00           Rice Bran Gluten Free Dinner Rolls Plain   \n",
       "2013-08-12 00:00:00+00:00  Bear Naked Fit Almond Crisp 100 Percent Natura...   \n",
       "2014-06-15 00:00:00+00:00                        Heinz Tomato Ketchup - 2 Ct   \n",
       "2014-07-08 00:00:00+00:00                     Natures Way Forskohlii - 60 Ct   \n",
       "2017-10-04 00:00:00+00:00  Earths Best Organic Fruit Yogurt Smoothie Mixe...   \n",
       "2013-10-03 00:00:00+00:00  Moms Best Naturals Cereal Toasted Cinnamon Squ...   \n",
       "2017-02-25 00:00:00+00:00   Boars Head Sliced White American Cheese - 120 Ct   \n",
       "\n",
       "                           item_price    item_upc12    item_upc14  Unnamed: 0  \\\n",
       "sale_date                                                                       \n",
       "2014-02-09 00:00:00+00:00        3.14  208528800007  208528800007           9   \n",
       "2013-03-18 00:00:00+00:00        0.98  300436344045  300436344045           8   \n",
       "2017-11-27 00:00:00+00:00        8.65   13000001038   13000001038           2   \n",
       "2013-11-11 00:00:00+00:00        7.95  610358991525  610358991525           5   \n",
       "2013-08-12 00:00:00+00:00        7.38  884623708976  884623708976           5   \n",
       "2014-06-15 00:00:00+00:00        8.65   13000001038   13000001038           5   \n",
       "2014-07-08 00:00:00+00:00        5.19   33674100066   33674100066           3   \n",
       "2017-10-04 00:00:00+00:00        2.43   23923330139   23923330139           4   \n",
       "2013-10-03 00:00:00+00:00        2.97  883978129115  883978129115           5   \n",
       "2017-02-25 00:00:00+00:00        3.14  208528800007  208528800007           4   \n",
       "\n",
       "                                     store_address   store_city  store_id  \\\n",
       "sale_date                                                                   \n",
       "2014-02-09 00:00:00+00:00     8503 NW Military Hwy  San Antonio        10   \n",
       "2013-03-18 00:00:00+00:00       735 SW Military Dr  San Antonio         9   \n",
       "2017-11-27 00:00:00+00:00  2118 Fredericksburg Rdj  San Antonio         3   \n",
       "2013-11-11 00:00:00+00:00       1015 S WW White Rd  San Antonio         6   \n",
       "2013-08-12 00:00:00+00:00       1015 S WW White Rd  San Antonio         6   \n",
       "2014-06-15 00:00:00+00:00       1015 S WW White Rd  San Antonio         6   \n",
       "2014-07-08 00:00:00+00:00          516 S Flores St  San Antonio         4   \n",
       "2017-10-04 00:00:00+00:00          1520 Austin Hwy  San Antonio         5   \n",
       "2013-10-03 00:00:00+00:00       1015 S WW White Rd  San Antonio         6   \n",
       "2017-02-25 00:00:00+00:00          1520 Austin Hwy  San Antonio         5   \n",
       "\n",
       "                          store_state  store_zipcode  month    weekday  \\\n",
       "sale_date                                                                \n",
       "2014-02-09 00:00:00+00:00          TX          78231      2     Sunday   \n",
       "2013-03-18 00:00:00+00:00          TX          78221      3     Monday   \n",
       "2017-11-27 00:00:00+00:00          TX          78201     11     Monday   \n",
       "2013-11-11 00:00:00+00:00          TX          78220     11     Monday   \n",
       "2013-08-12 00:00:00+00:00          TX          78220      8     Monday   \n",
       "2014-06-15 00:00:00+00:00          TX          78220      6     Sunday   \n",
       "2014-07-08 00:00:00+00:00          TX          78204      7    Tuesday   \n",
       "2017-10-04 00:00:00+00:00          TX          78218     10  Wednesday   \n",
       "2013-10-03 00:00:00+00:00          TX          78220     10   Thursday   \n",
       "2017-02-25 00:00:00+00:00          TX          78218      2   Saturday   \n",
       "\n",
       "                           sales_total  \n",
       "sale_date                               \n",
       "2014-02-09 00:00:00+00:00        78.50  \n",
       "2013-03-18 00:00:00+00:00        31.36  \n",
       "2017-11-27 00:00:00+00:00       674.70  \n",
       "2013-11-11 00:00:00+00:00       286.20  \n",
       "2013-08-12 00:00:00+00:00        73.80  \n",
       "2014-06-15 00:00:00+00:00       631.45  \n",
       "2014-07-08 00:00:00+00:00       441.15  \n",
       "2017-10-04 00:00:00+00:00        80.19  \n",
       "2013-10-03 00:00:00+00:00       109.89  \n",
       "2017-02-25 00:00:00+00:00        53.38  "
      ]
     },
     "execution_count": 14,
     "metadata": {},
     "output_type": "execute_result"
    }
   ],
   "source": [
    "df['sales_total']=df.sale_amount * df.item_price\n",
    "df.sample(10)"
   ]
  },
  {
   "cell_type": "markdown",
   "metadata": {},
   "source": [
    "6. Make sure all the work that you have done above is reproducible. That is, you should put the code above into separate functions and be able to re-run the functions and get the same results.\n"
   ]
  },
  {
   "cell_type": "code",
   "execution_count": 17,
   "metadata": {},
   "outputs": [],
   "source": [
    "def prepare():\n",
    "    df = get_store_data()\n",
    "    print('Data acquired...')\n",
    "    print('Converting to datetime')\n",
    "    df.sale_date = pd.to_datetime(df.sale_date)\n",
    "    df = df.set_index(\"sale_date\").sort_index()\n",
    "    print('Sale date set to datetime and reindexed...')\n",
    "    df['month'] = df.index.month\n",
    "    df['weekday'] = df.index.day_name()\n",
    "    df['sales_total']=df.sale_amount * df.item_price\n",
    "    print('Added engineered columns...')\n",
    "    print('Prepare complete')\n",
    "    return df"
   ]
  },
  {
   "cell_type": "code",
   "execution_count": 16,
   "metadata": {},
   "outputs": [
    {
     "name": "stdout",
     "output_type": "stream",
     "text": [
      "Data is cached. Reading from .csv files\n",
      "Items data acquired...\n",
      "Stores data acquired...\n",
      "Sales data acquired...\n",
      "Acquisition complete\n",
      "Data acquired...\n",
      "Sale date set to datetime and reindexed...\n",
      "Added engineered columns...\n"
     ]
    }
   ],
   "source": [
    "df2=prepare()"
   ]
  },
  {
   "cell_type": "code",
   "execution_count": 19,
   "metadata": {},
   "outputs": [
    {
     "data": {
      "text/html": [
       "<div><div id=766493b8-586b-4919-b8d0-4bc00b44bf21 style=\"display:none; background-color:#9D6CFF; color:white; width:200px; height:30px; padding-left:5px; border-radius:4px; flex-direction:row; justify-content:space-around; align-items:center;\" onmouseover=\"this.style.backgroundColor='#BA9BF8'\" onmouseout=\"this.style.backgroundColor='#9D6CFF'\" onclick=\"window.commands?.execute('create-mitosheet-from-dataframe-output');\">See Full Dataframe in Mito</div> <script> if (window.commands.hasCommand('create-mitosheet-from-dataframe-output')) document.getElementById('766493b8-586b-4919-b8d0-4bc00b44bf21').style.display = 'flex' </script> <table border=\"1\" class=\"dataframe\">\n",
       "  <thead>\n",
       "    <tr style=\"text-align: right;\">\n",
       "      <th></th>\n",
       "      <th>Unnamed: 0_x</th>\n",
       "      <th>sale_amount</th>\n",
       "      <th>sale_id</th>\n",
       "      <th>Unnamed: 0_y</th>\n",
       "      <th>item_brand</th>\n",
       "      <th>item_id</th>\n",
       "      <th>item_name</th>\n",
       "      <th>item_price</th>\n",
       "      <th>item_upc12</th>\n",
       "      <th>item_upc14</th>\n",
       "      <th>Unnamed: 0</th>\n",
       "      <th>store_address</th>\n",
       "      <th>store_city</th>\n",
       "      <th>store_id</th>\n",
       "      <th>store_state</th>\n",
       "      <th>store_zipcode</th>\n",
       "      <th>month</th>\n",
       "      <th>weekday</th>\n",
       "      <th>sales_total</th>\n",
       "    </tr>\n",
       "    <tr>\n",
       "      <th>sale_date</th>\n",
       "      <th></th>\n",
       "      <th></th>\n",
       "      <th></th>\n",
       "      <th></th>\n",
       "      <th></th>\n",
       "      <th></th>\n",
       "      <th></th>\n",
       "      <th></th>\n",
       "      <th></th>\n",
       "      <th></th>\n",
       "      <th></th>\n",
       "      <th></th>\n",
       "      <th></th>\n",
       "      <th></th>\n",
       "      <th></th>\n",
       "      <th></th>\n",
       "      <th></th>\n",
       "      <th></th>\n",
       "      <th></th>\n",
       "    </tr>\n",
       "  </thead>\n",
       "  <tbody>\n",
       "    <tr>\n",
       "      <th>2014-07-24 00:00:00+00:00</th>\n",
       "      <td>90043</td>\n",
       "      <td>14.0</td>\n",
       "      <td>90044</td>\n",
       "      <td>4</td>\n",
       "      <td>Back To Nature</td>\n",
       "      <td>5</td>\n",
       "      <td>Back To Nature Gluten Free White Cheddar Rice Thin Crackers</td>\n",
       "      <td>2.61</td>\n",
       "      <td>759283100036</td>\n",
       "      <td>759283100036</td>\n",
       "      <td>9</td>\n",
       "      <td>8503 NW Military Hwy</td>\n",
       "      <td>San Antonio</td>\n",
       "      <td>10</td>\n",
       "      <td>TX</td>\n",
       "      <td>78231</td>\n",
       "      <td>7</td>\n",
       "      <td>Thursday</td>\n",
       "      <td>36.54</td>\n",
       "    </tr>\n",
       "    <tr>\n",
       "      <th>2014-04-11 00:00:00+00:00</th>\n",
       "      <td>206803</td>\n",
       "      <td>62.0</td>\n",
       "      <td>206804</td>\n",
       "      <td>11</td>\n",
       "      <td>Mueller</td>\n",
       "      <td>12</td>\n",
       "      <td>Mueller Sport Care Basic Support Level Medium Elastic Knee Support</td>\n",
       "      <td>8.40</td>\n",
       "      <td>74676640211</td>\n",
       "      <td>74676640211</td>\n",
       "      <td>3</td>\n",
       "      <td>516 S Flores St</td>\n",
       "      <td>San Antonio</td>\n",
       "      <td>4</td>\n",
       "      <td>TX</td>\n",
       "      <td>78204</td>\n",
       "      <td>4</td>\n",
       "      <td>Friday</td>\n",
       "      <td>520.80</td>\n",
       "    </tr>\n",
       "    <tr>\n",
       "      <th>2015-04-18 00:00:00+00:00</th>\n",
       "      <td>544985</td>\n",
       "      <td>56.0</td>\n",
       "      <td>544986</td>\n",
       "      <td>29</td>\n",
       "      <td>Petmate</td>\n",
       "      <td>30</td>\n",
       "      <td>Petmate Booda Bones Steak Bacon &amp; Chicken Flavors - 9 Ct</td>\n",
       "      <td>8.39</td>\n",
       "      <td>723503568678</td>\n",
       "      <td>723503568678</td>\n",
       "      <td>8</td>\n",
       "      <td>735 SW Military Dr</td>\n",
       "      <td>San Antonio</td>\n",
       "      <td>9</td>\n",
       "      <td>TX</td>\n",
       "      <td>78221</td>\n",
       "      <td>4</td>\n",
       "      <td>Saturday</td>\n",
       "      <td>469.84</td>\n",
       "    </tr>\n",
       "    <tr>\n",
       "      <th>2016-03-10 00:00:00+00:00</th>\n",
       "      <td>908686</td>\n",
       "      <td>89.0</td>\n",
       "      <td>908687</td>\n",
       "      <td>49</td>\n",
       "      <td>Choice</td>\n",
       "      <td>50</td>\n",
       "      <td>Choice Organic Teas Black Tea Classic Black - 16 Ct</td>\n",
       "      <td>5.20</td>\n",
       "      <td>47445919221</td>\n",
       "      <td>47445919221</td>\n",
       "      <td>7</td>\n",
       "      <td>15000 San Pedro Ave</td>\n",
       "      <td>San Antonio</td>\n",
       "      <td>8</td>\n",
       "      <td>TX</td>\n",
       "      <td>78232</td>\n",
       "      <td>3</td>\n",
       "      <td>Thursday</td>\n",
       "      <td>462.80</td>\n",
       "    </tr>\n",
       "    <tr>\n",
       "      <th>2016-01-11 00:00:00+00:00</th>\n",
       "      <td>46755</td>\n",
       "      <td>13.0</td>\n",
       "      <td>46756</td>\n",
       "      <td>2</td>\n",
       "      <td>Earths Best</td>\n",
       "      <td>3</td>\n",
       "      <td>Earths Best Organic Fruit Yogurt Smoothie Mixed Berry</td>\n",
       "      <td>2.43</td>\n",
       "      <td>23923330139</td>\n",
       "      <td>23923330139</td>\n",
       "      <td>5</td>\n",
       "      <td>1015 S WW White Rd</td>\n",
       "      <td>San Antonio</td>\n",
       "      <td>6</td>\n",
       "      <td>TX</td>\n",
       "      <td>78220</td>\n",
       "      <td>1</td>\n",
       "      <td>Monday</td>\n",
       "      <td>31.59</td>\n",
       "    </tr>\n",
       "    <tr>\n",
       "      <th>2016-08-07 00:00:00+00:00</th>\n",
       "      <td>413990</td>\n",
       "      <td>20.0</td>\n",
       "      <td>413991</td>\n",
       "      <td>22</td>\n",
       "      <td>Reese</td>\n",
       "      <td>23</td>\n",
       "      <td>Reese Mandarin Oranges Segments In Light Syrup</td>\n",
       "      <td>1.78</td>\n",
       "      <td>70670009658</td>\n",
       "      <td>70670009658</td>\n",
       "      <td>6</td>\n",
       "      <td>12018 Perrin Beitel Rd</td>\n",
       "      <td>San Antonio</td>\n",
       "      <td>7</td>\n",
       "      <td>TX</td>\n",
       "      <td>78217</td>\n",
       "      <td>8</td>\n",
       "      <td>Sunday</td>\n",
       "      <td>35.60</td>\n",
       "    </tr>\n",
       "    <tr>\n",
       "      <th>2016-02-26 00:00:00+00:00</th>\n",
       "      <td>8455</td>\n",
       "      <td>13.0</td>\n",
       "      <td>8456</td>\n",
       "      <td>0</td>\n",
       "      <td>Riceland</td>\n",
       "      <td>1</td>\n",
       "      <td>Riceland American Jazmine Rice</td>\n",
       "      <td>0.84</td>\n",
       "      <td>35200264013</td>\n",
       "      <td>35200264013</td>\n",
       "      <td>4</td>\n",
       "      <td>1520 Austin Hwy</td>\n",
       "      <td>San Antonio</td>\n",
       "      <td>5</td>\n",
       "      <td>TX</td>\n",
       "      <td>78218</td>\n",
       "      <td>2</td>\n",
       "      <td>Friday</td>\n",
       "      <td>10.92</td>\n",
       "    </tr>\n",
       "    <tr>\n",
       "      <th>2016-01-03 00:00:00+00:00</th>\n",
       "      <td>85093</td>\n",
       "      <td>10.0</td>\n",
       "      <td>85094</td>\n",
       "      <td>4</td>\n",
       "      <td>Back To Nature</td>\n",
       "      <td>5</td>\n",
       "      <td>Back To Nature Gluten Free White Cheddar Rice Thin Crackers</td>\n",
       "      <td>2.61</td>\n",
       "      <td>759283100036</td>\n",
       "      <td>759283100036</td>\n",
       "      <td>6</td>\n",
       "      <td>12018 Perrin Beitel Rd</td>\n",
       "      <td>San Antonio</td>\n",
       "      <td>7</td>\n",
       "      <td>TX</td>\n",
       "      <td>78217</td>\n",
       "      <td>1</td>\n",
       "      <td>Sunday</td>\n",
       "      <td>26.10</td>\n",
       "    </tr>\n",
       "    <tr>\n",
       "      <th>2016-03-05 00:00:00+00:00</th>\n",
       "      <td>512439</td>\n",
       "      <td>57.0</td>\n",
       "      <td>512440</td>\n",
       "      <td>28</td>\n",
       "      <td>Heinz</td>\n",
       "      <td>29</td>\n",
       "      <td>Heinz Tomato Ketchup - 2 Ct</td>\n",
       "      <td>8.65</td>\n",
       "      <td>13000001038</td>\n",
       "      <td>13000001038</td>\n",
       "      <td>0</td>\n",
       "      <td>12125 Alamo Ranch Pkwy</td>\n",
       "      <td>San Antonio</td>\n",
       "      <td>1</td>\n",
       "      <td>TX</td>\n",
       "      <td>78253</td>\n",
       "      <td>3</td>\n",
       "      <td>Saturday</td>\n",
       "      <td>493.05</td>\n",
       "    </tr>\n",
       "    <tr>\n",
       "      <th>2014-04-06 00:00:00+00:00</th>\n",
       "      <td>110020</td>\n",
       "      <td>70.0</td>\n",
       "      <td>110021</td>\n",
       "      <td>6</td>\n",
       "      <td>Twinings Of London</td>\n",
       "      <td>7</td>\n",
       "      <td>Twinings Of London Classics Lady Grey Tea - 20 Ct</td>\n",
       "      <td>9.64</td>\n",
       "      <td>70177154004</td>\n",
       "      <td>70177154004</td>\n",
       "      <td>0</td>\n",
       "      <td>12125 Alamo Ranch Pkwy</td>\n",
       "      <td>San Antonio</td>\n",
       "      <td>1</td>\n",
       "      <td>TX</td>\n",
       "      <td>78253</td>\n",
       "      <td>4</td>\n",
       "      <td>Sunday</td>\n",
       "      <td>674.80</td>\n",
       "    </tr>\n",
       "  </tbody>\n",
       "</table></div>"
      ],
      "text/plain": [
       "                           Unnamed: 0_x  sale_amount  sale_id  Unnamed: 0_y  \\\n",
       "sale_date                                                                     \n",
       "2014-07-24 00:00:00+00:00         90043         14.0    90044             4   \n",
       "2014-04-11 00:00:00+00:00        206803         62.0   206804            11   \n",
       "2015-04-18 00:00:00+00:00        544985         56.0   544986            29   \n",
       "2016-03-10 00:00:00+00:00        908686         89.0   908687            49   \n",
       "2016-01-11 00:00:00+00:00         46755         13.0    46756             2   \n",
       "2016-08-07 00:00:00+00:00        413990         20.0   413991            22   \n",
       "2016-02-26 00:00:00+00:00          8455         13.0     8456             0   \n",
       "2016-01-03 00:00:00+00:00         85093         10.0    85094             4   \n",
       "2016-03-05 00:00:00+00:00        512439         57.0   512440            28   \n",
       "2014-04-06 00:00:00+00:00        110020         70.0   110021             6   \n",
       "\n",
       "                                   item_brand  item_id  \\\n",
       "sale_date                                                \n",
       "2014-07-24 00:00:00+00:00      Back To Nature        5   \n",
       "2014-04-11 00:00:00+00:00             Mueller       12   \n",
       "2015-04-18 00:00:00+00:00             Petmate       30   \n",
       "2016-03-10 00:00:00+00:00              Choice       50   \n",
       "2016-01-11 00:00:00+00:00         Earths Best        3   \n",
       "2016-08-07 00:00:00+00:00               Reese       23   \n",
       "2016-02-26 00:00:00+00:00            Riceland        1   \n",
       "2016-01-03 00:00:00+00:00      Back To Nature        5   \n",
       "2016-03-05 00:00:00+00:00               Heinz       29   \n",
       "2014-04-06 00:00:00+00:00  Twinings Of London        7   \n",
       "\n",
       "                                                                   item_name  \\\n",
       "sale_date                                                                      \n",
       "2014-07-24 00:00:00+00:00  Back To Nature Gluten Free White Cheddar Rice ...   \n",
       "2014-04-11 00:00:00+00:00  Mueller Sport Care Basic Support Level Medium ...   \n",
       "2015-04-18 00:00:00+00:00  Petmate Booda Bones Steak Bacon & Chicken Flav...   \n",
       "2016-03-10 00:00:00+00:00  Choice Organic Teas Black Tea Classic Black - ...   \n",
       "2016-01-11 00:00:00+00:00  Earths Best Organic Fruit Yogurt Smoothie Mixe...   \n",
       "2016-08-07 00:00:00+00:00     Reese Mandarin Oranges Segments In Light Syrup   \n",
       "2016-02-26 00:00:00+00:00                     Riceland American Jazmine Rice   \n",
       "2016-01-03 00:00:00+00:00  Back To Nature Gluten Free White Cheddar Rice ...   \n",
       "2016-03-05 00:00:00+00:00                        Heinz Tomato Ketchup - 2 Ct   \n",
       "2014-04-06 00:00:00+00:00  Twinings Of London Classics Lady Grey Tea - 20 Ct   \n",
       "\n",
       "                           item_price    item_upc12    item_upc14  Unnamed: 0  \\\n",
       "sale_date                                                                       \n",
       "2014-07-24 00:00:00+00:00        2.61  759283100036  759283100036           9   \n",
       "2014-04-11 00:00:00+00:00        8.40   74676640211   74676640211           3   \n",
       "2015-04-18 00:00:00+00:00        8.39  723503568678  723503568678           8   \n",
       "2016-03-10 00:00:00+00:00        5.20   47445919221   47445919221           7   \n",
       "2016-01-11 00:00:00+00:00        2.43   23923330139   23923330139           5   \n",
       "2016-08-07 00:00:00+00:00        1.78   70670009658   70670009658           6   \n",
       "2016-02-26 00:00:00+00:00        0.84   35200264013   35200264013           4   \n",
       "2016-01-03 00:00:00+00:00        2.61  759283100036  759283100036           6   \n",
       "2016-03-05 00:00:00+00:00        8.65   13000001038   13000001038           0   \n",
       "2014-04-06 00:00:00+00:00        9.64   70177154004   70177154004           0   \n",
       "\n",
       "                                    store_address   store_city  store_id  \\\n",
       "sale_date                                                                  \n",
       "2014-07-24 00:00:00+00:00    8503 NW Military Hwy  San Antonio        10   \n",
       "2014-04-11 00:00:00+00:00         516 S Flores St  San Antonio         4   \n",
       "2015-04-18 00:00:00+00:00      735 SW Military Dr  San Antonio         9   \n",
       "2016-03-10 00:00:00+00:00     15000 San Pedro Ave  San Antonio         8   \n",
       "2016-01-11 00:00:00+00:00      1015 S WW White Rd  San Antonio         6   \n",
       "2016-08-07 00:00:00+00:00  12018 Perrin Beitel Rd  San Antonio         7   \n",
       "2016-02-26 00:00:00+00:00         1520 Austin Hwy  San Antonio         5   \n",
       "2016-01-03 00:00:00+00:00  12018 Perrin Beitel Rd  San Antonio         7   \n",
       "2016-03-05 00:00:00+00:00  12125 Alamo Ranch Pkwy  San Antonio         1   \n",
       "2014-04-06 00:00:00+00:00  12125 Alamo Ranch Pkwy  San Antonio         1   \n",
       "\n",
       "                          store_state  store_zipcode  month   weekday  \\\n",
       "sale_date                                                               \n",
       "2014-07-24 00:00:00+00:00          TX          78231      7  Thursday   \n",
       "2014-04-11 00:00:00+00:00          TX          78204      4    Friday   \n",
       "2015-04-18 00:00:00+00:00          TX          78221      4  Saturday   \n",
       "2016-03-10 00:00:00+00:00          TX          78232      3  Thursday   \n",
       "2016-01-11 00:00:00+00:00          TX          78220      1    Monday   \n",
       "2016-08-07 00:00:00+00:00          TX          78217      8    Sunday   \n",
       "2016-02-26 00:00:00+00:00          TX          78218      2    Friday   \n",
       "2016-01-03 00:00:00+00:00          TX          78217      1    Sunday   \n",
       "2016-03-05 00:00:00+00:00          TX          78253      3  Saturday   \n",
       "2014-04-06 00:00:00+00:00          TX          78253      4    Sunday   \n",
       "\n",
       "                           sales_total  \n",
       "sale_date                               \n",
       "2014-07-24 00:00:00+00:00        36.54  \n",
       "2014-04-11 00:00:00+00:00       520.80  \n",
       "2015-04-18 00:00:00+00:00       469.84  \n",
       "2016-03-10 00:00:00+00:00       462.80  \n",
       "2016-01-11 00:00:00+00:00        31.59  \n",
       "2016-08-07 00:00:00+00:00        35.60  \n",
       "2016-02-26 00:00:00+00:00        10.92  \n",
       "2016-01-03 00:00:00+00:00        26.10  \n",
       "2016-03-05 00:00:00+00:00       493.05  \n",
       "2014-04-06 00:00:00+00:00       674.80  "
      ]
     },
     "execution_count": 19,
     "metadata": {},
     "output_type": "execute_result"
    }
   ],
   "source": [
    "df2.sample(10)"
   ]
  },
  {
   "cell_type": "markdown",
   "metadata": {},
   "source": [
    "---"
   ]
  },
  {
   "cell_type": "markdown",
   "metadata": {},
   "source": [
    "\n",
    "**Using the OPS data acquired in the Acquire exercises opsd_germany_daily.csv, complete the following:**\n"
   ]
  },
  {
   "cell_type": "code",
   "execution_count": 34,
   "metadata": {},
   "outputs": [
    {
     "data": {
      "text/html": [
       "<div><div id=be352f9d-2e86-4ed6-ad66-554eb8b2e579 style=\"display:none; background-color:#9D6CFF; color:white; width:200px; height:30px; padding-left:5px; border-radius:4px; flex-direction:row; justify-content:space-around; align-items:center;\" onmouseover=\"this.style.backgroundColor='#BA9BF8'\" onmouseout=\"this.style.backgroundColor='#9D6CFF'\" onclick=\"window.commands?.execute('create-mitosheet-from-dataframe-output');\">See Full Dataframe in Mito</div> <script> if (window.commands.hasCommand('create-mitosheet-from-dataframe-output')) document.getElementById('be352f9d-2e86-4ed6-ad66-554eb8b2e579').style.display = 'flex' </script> <table border=\"1\" class=\"dataframe\">\n",
       "  <thead>\n",
       "    <tr style=\"text-align: right;\">\n",
       "      <th></th>\n",
       "      <th>Date</th>\n",
       "      <th>Consumption</th>\n",
       "      <th>Wind</th>\n",
       "      <th>Solar</th>\n",
       "      <th>Wind+Solar</th>\n",
       "    </tr>\n",
       "  </thead>\n",
       "  <tbody>\n",
       "    <tr>\n",
       "      <th>0</th>\n",
       "      <td>2006-01-01</td>\n",
       "      <td>1069.184</td>\n",
       "      <td>NaN</td>\n",
       "      <td>NaN</td>\n",
       "      <td>NaN</td>\n",
       "    </tr>\n",
       "    <tr>\n",
       "      <th>1</th>\n",
       "      <td>2006-01-02</td>\n",
       "      <td>1380.521</td>\n",
       "      <td>NaN</td>\n",
       "      <td>NaN</td>\n",
       "      <td>NaN</td>\n",
       "    </tr>\n",
       "    <tr>\n",
       "      <th>2</th>\n",
       "      <td>2006-01-03</td>\n",
       "      <td>1442.533</td>\n",
       "      <td>NaN</td>\n",
       "      <td>NaN</td>\n",
       "      <td>NaN</td>\n",
       "    </tr>\n",
       "    <tr>\n",
       "      <th>3</th>\n",
       "      <td>2006-01-04</td>\n",
       "      <td>1457.217</td>\n",
       "      <td>NaN</td>\n",
       "      <td>NaN</td>\n",
       "      <td>NaN</td>\n",
       "    </tr>\n",
       "    <tr>\n",
       "      <th>4</th>\n",
       "      <td>2006-01-05</td>\n",
       "      <td>1477.131</td>\n",
       "      <td>NaN</td>\n",
       "      <td>NaN</td>\n",
       "      <td>NaN</td>\n",
       "    </tr>\n",
       "  </tbody>\n",
       "</table></div>"
      ],
      "text/plain": [
       "         Date  Consumption  Wind  Solar  Wind+Solar\n",
       "0  2006-01-01     1069.184   NaN    NaN         NaN\n",
       "1  2006-01-02     1380.521   NaN    NaN         NaN\n",
       "2  2006-01-03     1442.533   NaN    NaN         NaN\n",
       "3  2006-01-04     1457.217   NaN    NaN         NaN\n",
       "4  2006-01-05     1477.131   NaN    NaN         NaN"
      ]
     },
     "execution_count": 34,
     "metadata": {},
     "output_type": "execute_result"
    }
   ],
   "source": [
    "df = pd.read_csv(\"https://raw.githubusercontent.com/jenfly/opsd/master/opsd_germany_daily.csv\")\n",
    "df.head()"
   ]
  },
  {
   "cell_type": "code",
   "execution_count": 35,
   "metadata": {},
   "outputs": [
    {
     "data": {
      "text/plain": [
       "Date            object\n",
       "Consumption    float64\n",
       "Wind           float64\n",
       "Solar          float64\n",
       "Wind+Solar     float64\n",
       "dtype: object"
      ]
     },
     "execution_count": 35,
     "metadata": {},
     "output_type": "execute_result"
    }
   ],
   "source": [
    "df.dtypes"
   ]
  },
  {
   "cell_type": "markdown",
   "metadata": {},
   "source": [
    "1. Convert date column to datetime format.\n"
   ]
  },
  {
   "cell_type": "code",
   "execution_count": 36,
   "metadata": {},
   "outputs": [
    {
     "data": {
      "text/html": [
       "<div><div id=5349ae9a-19be-499b-afa1-7a15bda02733 style=\"display:none; background-color:#9D6CFF; color:white; width:200px; height:30px; padding-left:5px; border-radius:4px; flex-direction:row; justify-content:space-around; align-items:center;\" onmouseover=\"this.style.backgroundColor='#BA9BF8'\" onmouseout=\"this.style.backgroundColor='#9D6CFF'\" onclick=\"window.commands?.execute('create-mitosheet-from-dataframe-output');\">See Full Dataframe in Mito</div> <script> if (window.commands.hasCommand('create-mitosheet-from-dataframe-output')) document.getElementById('5349ae9a-19be-499b-afa1-7a15bda02733').style.display = 'flex' </script> <table border=\"1\" class=\"dataframe\">\n",
       "  <thead>\n",
       "    <tr style=\"text-align: right;\">\n",
       "      <th></th>\n",
       "      <th>Consumption</th>\n",
       "      <th>Wind</th>\n",
       "      <th>Solar</th>\n",
       "      <th>Wind+Solar</th>\n",
       "    </tr>\n",
       "    <tr>\n",
       "      <th>Date</th>\n",
       "      <th></th>\n",
       "      <th></th>\n",
       "      <th></th>\n",
       "      <th></th>\n",
       "    </tr>\n",
       "  </thead>\n",
       "  <tbody>\n",
       "    <tr>\n",
       "      <th>2006-01-01</th>\n",
       "      <td>1069.184</td>\n",
       "      <td>NaN</td>\n",
       "      <td>NaN</td>\n",
       "      <td>NaN</td>\n",
       "    </tr>\n",
       "    <tr>\n",
       "      <th>2006-01-02</th>\n",
       "      <td>1380.521</td>\n",
       "      <td>NaN</td>\n",
       "      <td>NaN</td>\n",
       "      <td>NaN</td>\n",
       "    </tr>\n",
       "    <tr>\n",
       "      <th>2006-01-03</th>\n",
       "      <td>1442.533</td>\n",
       "      <td>NaN</td>\n",
       "      <td>NaN</td>\n",
       "      <td>NaN</td>\n",
       "    </tr>\n",
       "    <tr>\n",
       "      <th>2006-01-04</th>\n",
       "      <td>1457.217</td>\n",
       "      <td>NaN</td>\n",
       "      <td>NaN</td>\n",
       "      <td>NaN</td>\n",
       "    </tr>\n",
       "    <tr>\n",
       "      <th>2006-01-05</th>\n",
       "      <td>1477.131</td>\n",
       "      <td>NaN</td>\n",
       "      <td>NaN</td>\n",
       "      <td>NaN</td>\n",
       "    </tr>\n",
       "  </tbody>\n",
       "</table></div>"
      ],
      "text/plain": [
       "            Consumption  Wind  Solar  Wind+Solar\n",
       "Date                                            \n",
       "2006-01-01     1069.184   NaN    NaN         NaN\n",
       "2006-01-02     1380.521   NaN    NaN         NaN\n",
       "2006-01-03     1442.533   NaN    NaN         NaN\n",
       "2006-01-04     1457.217   NaN    NaN         NaN\n",
       "2006-01-05     1477.131   NaN    NaN         NaN"
      ]
     },
     "execution_count": 36,
     "metadata": {},
     "output_type": "execute_result"
    }
   ],
   "source": [
    "# Reassign the sale_date column to be a datetime type\n",
    "df.Date = pd.to_datetime(df.Date)\n",
    "\n",
    "# Sort rows by the date and then set the index as that date\n",
    "df = df.set_index(\"Date\").sort_index()\n",
    "\n",
    "df.head()"
   ]
  },
  {
   "cell_type": "code",
   "execution_count": 37,
   "metadata": {},
   "outputs": [
    {
     "data": {
      "text/plain": [
       "Consumption    float64\n",
       "Wind           float64\n",
       "Solar          float64\n",
       "Wind+Solar     float64\n",
       "dtype: object"
      ]
     },
     "execution_count": 37,
     "metadata": {},
     "output_type": "execute_result"
    }
   ],
   "source": [
    "df.dtypes"
   ]
  },
  {
   "cell_type": "markdown",
   "metadata": {},
   "source": [
    "2. Plot the distribution of each of your variables.\n"
   ]
  },
  {
   "cell_type": "code",
   "execution_count": 25,
   "metadata": {},
   "outputs": [
    {
     "data": {
      "image/png": "[encoded data removed]",
      "text/plain": [
       "<Figure size 936x504 with 4 Axes>"
      ]
     },
     "metadata": {},
     "output_type": "display_data"
    }
   ],
   "source": [
    "df[['Consumption', 'Wind', 'Solar', 'Wind+Solar']].hist();"
   ]
  },
  {
   "cell_type": "markdown",
   "metadata": {},
   "source": [
    "3. Set the index to be the datetime variable.\n"
   ]
  },
  {
   "cell_type": "code",
   "execution_count": 38,
   "metadata": {},
   "outputs": [],
   "source": [
    "# Completed above"
   ]
  },
  {
   "cell_type": "markdown",
   "metadata": {},
   "source": [
    "4. Add a month and a year column to your dataframe.\n"
   ]
  },
  {
   "cell_type": "code",
   "execution_count": 39,
   "metadata": {},
   "outputs": [],
   "source": [
    "df['month'] = df.index.month\n",
    "df['year'] = df.index.year\n"
   ]
  },
  {
   "cell_type": "code",
   "execution_count": 40,
   "metadata": {},
   "outputs": [
    {
     "data": {
      "text/html": [
       "<div><div id=3799a931-a088-4e7c-8b6c-6aa7c4b051b1 style=\"display:none; background-color:#9D6CFF; color:white; width:200px; height:30px; padding-left:5px; border-radius:4px; flex-direction:row; justify-content:space-around; align-items:center;\" onmouseover=\"this.style.backgroundColor='#BA9BF8'\" onmouseout=\"this.style.backgroundColor='#9D6CFF'\" onclick=\"window.commands?.execute('create-mitosheet-from-dataframe-output');\">See Full Dataframe in Mito</div> <script> if (window.commands.hasCommand('create-mitosheet-from-dataframe-output')) document.getElementById('3799a931-a088-4e7c-8b6c-6aa7c4b051b1').style.display = 'flex' </script> <table border=\"1\" class=\"dataframe\">\n",
       "  <thead>\n",
       "    <tr style=\"text-align: right;\">\n",
       "      <th></th>\n",
       "      <th>Consumption</th>\n",
       "      <th>Wind</th>\n",
       "      <th>Solar</th>\n",
       "      <th>Wind+Solar</th>\n",
       "      <th>month</th>\n",
       "      <th>year</th>\n",
       "    </tr>\n",
       "    <tr>\n",
       "      <th>Date</th>\n",
       "      <th></th>\n",
       "      <th></th>\n",
       "      <th></th>\n",
       "      <th></th>\n",
       "      <th></th>\n",
       "      <th></th>\n",
       "    </tr>\n",
       "  </thead>\n",
       "  <tbody>\n",
       "    <tr>\n",
       "      <th>2011-08-01</th>\n",
       "      <td>1259.474</td>\n",
       "      <td>15.270</td>\n",
       "      <td>NaN</td>\n",
       "      <td>NaN</td>\n",
       "      <td>8</td>\n",
       "      <td>2011</td>\n",
       "    </tr>\n",
       "    <tr>\n",
       "      <th>2011-07-22</th>\n",
       "      <td>1307.515</td>\n",
       "      <td>284.356</td>\n",
       "      <td>NaN</td>\n",
       "      <td>NaN</td>\n",
       "      <td>7</td>\n",
       "      <td>2011</td>\n",
       "    </tr>\n",
       "    <tr>\n",
       "      <th>2006-07-27</th>\n",
       "      <td>1348.649</td>\n",
       "      <td>NaN</td>\n",
       "      <td>NaN</td>\n",
       "      <td>NaN</td>\n",
       "      <td>7</td>\n",
       "      <td>2006</td>\n",
       "    </tr>\n",
       "    <tr>\n",
       "      <th>2011-04-16</th>\n",
       "      <td>1209.070</td>\n",
       "      <td>17.877</td>\n",
       "      <td>NaN</td>\n",
       "      <td>NaN</td>\n",
       "      <td>4</td>\n",
       "      <td>2011</td>\n",
       "    </tr>\n",
       "    <tr>\n",
       "      <th>2011-01-26</th>\n",
       "      <td>1568.568</td>\n",
       "      <td>51.444</td>\n",
       "      <td>NaN</td>\n",
       "      <td>NaN</td>\n",
       "      <td>1</td>\n",
       "      <td>2011</td>\n",
       "    </tr>\n",
       "    <tr>\n",
       "      <th>2009-03-06</th>\n",
       "      <td>1401.981</td>\n",
       "      <td>NaN</td>\n",
       "      <td>NaN</td>\n",
       "      <td>NaN</td>\n",
       "      <td>3</td>\n",
       "      <td>2009</td>\n",
       "    </tr>\n",
       "    <tr>\n",
       "      <th>2013-06-12</th>\n",
       "      <td>1298.307</td>\n",
       "      <td>73.270</td>\n",
       "      <td>154.902</td>\n",
       "      <td>228.172</td>\n",
       "      <td>6</td>\n",
       "      <td>2013</td>\n",
       "    </tr>\n",
       "    <tr>\n",
       "      <th>2010-02-21</th>\n",
       "      <td>1189.077</td>\n",
       "      <td>86.668</td>\n",
       "      <td>NaN</td>\n",
       "      <td>NaN</td>\n",
       "      <td>2</td>\n",
       "      <td>2010</td>\n",
       "    </tr>\n",
       "    <tr>\n",
       "      <th>2014-03-15</th>\n",
       "      <td>1303.214</td>\n",
       "      <td>510.579</td>\n",
       "      <td>46.959</td>\n",
       "      <td>557.538</td>\n",
       "      <td>3</td>\n",
       "      <td>2014</td>\n",
       "    </tr>\n",
       "    <tr>\n",
       "      <th>2015-10-27</th>\n",
       "      <td>1501.482</td>\n",
       "      <td>162.714</td>\n",
       "      <td>64.449</td>\n",
       "      <td>227.163</td>\n",
       "      <td>10</td>\n",
       "      <td>2015</td>\n",
       "    </tr>\n",
       "  </tbody>\n",
       "</table></div>"
      ],
      "text/plain": [
       "            Consumption     Wind    Solar  Wind+Solar  month  year\n",
       "Date                                                              \n",
       "2011-08-01     1259.474   15.270      NaN         NaN      8  2011\n",
       "2011-07-22     1307.515  284.356      NaN         NaN      7  2011\n",
       "2006-07-27     1348.649      NaN      NaN         NaN      7  2006\n",
       "2011-04-16     1209.070   17.877      NaN         NaN      4  2011\n",
       "2011-01-26     1568.568   51.444      NaN         NaN      1  2011\n",
       "2009-03-06     1401.981      NaN      NaN         NaN      3  2009\n",
       "2013-06-12     1298.307   73.270  154.902     228.172      6  2013\n",
       "2010-02-21     1189.077   86.668      NaN         NaN      2  2010\n",
       "2014-03-15     1303.214  510.579   46.959     557.538      3  2014\n",
       "2015-10-27     1501.482  162.714   64.449     227.163     10  2015"
      ]
     },
     "execution_count": 40,
     "metadata": {},
     "output_type": "execute_result"
    }
   ],
   "source": [
    "df.sample(10)"
   ]
  },
  {
   "cell_type": "markdown",
   "metadata": {},
   "source": [
    "5. Fill any missing values.\n"
   ]
  },
  {
   "cell_type": "code",
   "execution_count": 41,
   "metadata": {},
   "outputs": [
    {
     "data": {
      "text/plain": [
       "Consumption       0\n",
       "Wind           1463\n",
       "Solar          2195\n",
       "Wind+Solar     2196\n",
       "month             0\n",
       "year              0\n",
       "dtype: int64"
      ]
     },
     "execution_count": 41,
     "metadata": {},
     "output_type": "execute_result"
    }
   ],
   "source": [
    "df.isnull().sum() # number null values in each column"
   ]
  },
  {
   "cell_type": "code",
   "execution_count": 42,
   "metadata": {},
   "outputs": [
    {
     "data": {
      "text/html": [
       "<div><div id=c17dbec9-07ae-45ff-8bbf-97b1748ee617 style=\"display:none; background-color:#9D6CFF; color:white; width:200px; height:30px; padding-left:5px; border-radius:4px; flex-direction:row; justify-content:space-around; align-items:center;\" onmouseover=\"this.style.backgroundColor='#BA9BF8'\" onmouseout=\"this.style.backgroundColor='#9D6CFF'\" onclick=\"window.commands?.execute('create-mitosheet-from-dataframe-output');\">See Full Dataframe in Mito</div> <script> if (window.commands.hasCommand('create-mitosheet-from-dataframe-output')) document.getElementById('c17dbec9-07ae-45ff-8bbf-97b1748ee617').style.display = 'flex' </script> <table border=\"1\" class=\"dataframe\">\n",
       "  <thead>\n",
       "    <tr style=\"text-align: right;\">\n",
       "      <th></th>\n",
       "      <th>Consumption</th>\n",
       "      <th>Wind</th>\n",
       "      <th>Solar</th>\n",
       "      <th>Wind+Solar</th>\n",
       "      <th>month</th>\n",
       "      <th>year</th>\n",
       "    </tr>\n",
       "    <tr>\n",
       "      <th>Date</th>\n",
       "      <th></th>\n",
       "      <th></th>\n",
       "      <th></th>\n",
       "      <th></th>\n",
       "      <th></th>\n",
       "      <th></th>\n",
       "    </tr>\n",
       "  </thead>\n",
       "  <tbody>\n",
       "    <tr>\n",
       "      <th>2006-01-01</th>\n",
       "      <td>1069.184</td>\n",
       "      <td>NaN</td>\n",
       "      <td>NaN</td>\n",
       "      <td>NaN</td>\n",
       "      <td>1</td>\n",
       "      <td>2006</td>\n",
       "    </tr>\n",
       "    <tr>\n",
       "      <th>2006-01-02</th>\n",
       "      <td>1380.521</td>\n",
       "      <td>NaN</td>\n",
       "      <td>NaN</td>\n",
       "      <td>NaN</td>\n",
       "      <td>1</td>\n",
       "      <td>2006</td>\n",
       "    </tr>\n",
       "    <tr>\n",
       "      <th>2006-01-03</th>\n",
       "      <td>1442.533</td>\n",
       "      <td>NaN</td>\n",
       "      <td>NaN</td>\n",
       "      <td>NaN</td>\n",
       "      <td>1</td>\n",
       "      <td>2006</td>\n",
       "    </tr>\n",
       "    <tr>\n",
       "      <th>2006-01-04</th>\n",
       "      <td>1457.217</td>\n",
       "      <td>NaN</td>\n",
       "      <td>NaN</td>\n",
       "      <td>NaN</td>\n",
       "      <td>1</td>\n",
       "      <td>2006</td>\n",
       "    </tr>\n",
       "    <tr>\n",
       "      <th>2006-01-05</th>\n",
       "      <td>1477.131</td>\n",
       "      <td>NaN</td>\n",
       "      <td>NaN</td>\n",
       "      <td>NaN</td>\n",
       "      <td>1</td>\n",
       "      <td>2006</td>\n",
       "    </tr>\n",
       "  </tbody>\n",
       "</table></div>"
      ],
      "text/plain": [
       "            Consumption  Wind  Solar  Wind+Solar  month  year\n",
       "Date                                                         \n",
       "2006-01-01     1069.184   NaN    NaN         NaN      1  2006\n",
       "2006-01-02     1380.521   NaN    NaN         NaN      1  2006\n",
       "2006-01-03     1442.533   NaN    NaN         NaN      1  2006\n",
       "2006-01-04     1457.217   NaN    NaN         NaN      1  2006\n",
       "2006-01-05     1477.131   NaN    NaN         NaN      1  2006"
      ]
     },
     "execution_count": 42,
     "metadata": {},
     "output_type": "execute_result"
    }
   ],
   "source": [
    "df.head()"
   ]
  },
  {
   "cell_type": "markdown",
   "metadata": {},
   "source": [
    "Figure out what NA really means in this context. If it is blank because there wasn't power generated with that method that day, consider using fill 0 instead of the forward/backfill approach taken below"
   ]
  },
  {
   "cell_type": "code",
   "execution_count": 43,
   "metadata": {},
   "outputs": [],
   "source": [
    "df.ffill(inplace=True)"
   ]
  },
  {
   "cell_type": "code",
   "execution_count": 46,
   "metadata": {},
   "outputs": [],
   "source": [
    "df.bfill(inplace=True)"
   ]
  },
  {
   "cell_type": "code",
   "execution_count": 47,
   "metadata": {},
   "outputs": [
    {
     "data": {
      "text/html": [
       "<div><div id=22ebb062-9c80-464b-85d3-fe7d9b83d1f0 style=\"display:none; background-color:#9D6CFF; color:white; width:200px; height:30px; padding-left:5px; border-radius:4px; flex-direction:row; justify-content:space-around; align-items:center;\" onmouseover=\"this.style.backgroundColor='#BA9BF8'\" onmouseout=\"this.style.backgroundColor='#9D6CFF'\" onclick=\"window.commands?.execute('create-mitosheet-from-dataframe-output');\">See Full Dataframe in Mito</div> <script> if (window.commands.hasCommand('create-mitosheet-from-dataframe-output')) document.getElementById('22ebb062-9c80-464b-85d3-fe7d9b83d1f0').style.display = 'flex' </script> <table border=\"1\" class=\"dataframe\">\n",
       "  <thead>\n",
       "    <tr style=\"text-align: right;\">\n",
       "      <th></th>\n",
       "      <th>Consumption</th>\n",
       "      <th>Wind</th>\n",
       "      <th>Solar</th>\n",
       "      <th>Wind+Solar</th>\n",
       "      <th>month</th>\n",
       "      <th>year</th>\n",
       "    </tr>\n",
       "    <tr>\n",
       "      <th>Date</th>\n",
       "      <th></th>\n",
       "      <th></th>\n",
       "      <th></th>\n",
       "      <th></th>\n",
       "      <th></th>\n",
       "      <th></th>\n",
       "    </tr>\n",
       "  </thead>\n",
       "  <tbody>\n",
       "    <tr>\n",
       "      <th>2006-01-01</th>\n",
       "      <td>1069.184</td>\n",
       "      <td>48.709</td>\n",
       "      <td>6.587</td>\n",
       "      <td>234.052</td>\n",
       "      <td>1</td>\n",
       "      <td>2006</td>\n",
       "    </tr>\n",
       "    <tr>\n",
       "      <th>2006-01-02</th>\n",
       "      <td>1380.521</td>\n",
       "      <td>48.709</td>\n",
       "      <td>6.587</td>\n",
       "      <td>234.052</td>\n",
       "      <td>1</td>\n",
       "      <td>2006</td>\n",
       "    </tr>\n",
       "    <tr>\n",
       "      <th>2006-01-03</th>\n",
       "      <td>1442.533</td>\n",
       "      <td>48.709</td>\n",
       "      <td>6.587</td>\n",
       "      <td>234.052</td>\n",
       "      <td>1</td>\n",
       "      <td>2006</td>\n",
       "    </tr>\n",
       "    <tr>\n",
       "      <th>2006-01-04</th>\n",
       "      <td>1457.217</td>\n",
       "      <td>48.709</td>\n",
       "      <td>6.587</td>\n",
       "      <td>234.052</td>\n",
       "      <td>1</td>\n",
       "      <td>2006</td>\n",
       "    </tr>\n",
       "    <tr>\n",
       "      <th>2006-01-05</th>\n",
       "      <td>1477.131</td>\n",
       "      <td>48.709</td>\n",
       "      <td>6.587</td>\n",
       "      <td>234.052</td>\n",
       "      <td>1</td>\n",
       "      <td>2006</td>\n",
       "    </tr>\n",
       "  </tbody>\n",
       "</table></div>"
      ],
      "text/plain": [
       "            Consumption    Wind  Solar  Wind+Solar  month  year\n",
       "Date                                                           \n",
       "2006-01-01     1069.184  48.709  6.587     234.052      1  2006\n",
       "2006-01-02     1380.521  48.709  6.587     234.052      1  2006\n",
       "2006-01-03     1442.533  48.709  6.587     234.052      1  2006\n",
       "2006-01-04     1457.217  48.709  6.587     234.052      1  2006\n",
       "2006-01-05     1477.131  48.709  6.587     234.052      1  2006"
      ]
     },
     "execution_count": 47,
     "metadata": {},
     "output_type": "execute_result"
    }
   ],
   "source": [
    "df.head()"
   ]
  },
  {
   "cell_type": "code",
   "execution_count": 48,
   "metadata": {},
   "outputs": [
    {
     "data": {
      "text/plain": [
       "Consumption    0\n",
       "Wind           0\n",
       "Solar          0\n",
       "Wind+Solar     0\n",
       "month          0\n",
       "year           0\n",
       "dtype: int64"
      ]
     },
     "execution_count": 48,
     "metadata": {},
     "output_type": "execute_result"
    }
   ],
   "source": [
    "df.isnull().sum() # number null values in each column"
   ]
  },
  {
   "cell_type": "markdown",
   "metadata": {},
   "source": [
    "6. Make sure all the work that you have done above is reproducible. That is, you should put the code above into separate functions and be able to re-run the functions and get the same results."
   ]
  },
  {
   "cell_type": "code",
   "execution_count": 56,
   "metadata": {},
   "outputs": [],
   "source": [
    "def prepare2(): \n",
    "    df = pd.read_csv(\"https://raw.githubusercontent.com/jenfly/opsd/master/opsd_germany_daily.csv\")\n",
    "    print('Read power data from CSV...')\n",
    "    print('Converting date to datetime...')\n",
    "    df.Date = pd.to_datetime(df.Date)\n",
    "    df = df.set_index(\"Date\").sort_index()\n",
    "    print('Dates converted and reindexed...')\n",
    "    df['month'] = df.index.month\n",
    "    df['year'] = df.index.year\n",
    "    print('Added engineered columns...')\n",
    "    print('Null value counts:')\n",
    "    print(df.isnull().sum())\n",
    "    print('Filling NAs...')\n",
    "    #df.ffill(inplace=True)\n",
    "    #df.bfill(inplace=True)\n",
    "    df.fillna(0, inplace=True)\n",
    "    print('Null value counts:')\n",
    "    print(df.isnull().sum())\n",
    "    print('Data prep complete.')\n",
    "    return df\n"
   ]
  },
  {
   "cell_type": "code",
   "execution_count": 57,
   "metadata": {},
   "outputs": [
    {
     "name": "stdout",
     "output_type": "stream",
     "text": [
      "Read power data from CSV...\n",
      "Converting date to datetime...\n",
      "Dates converted and reindexed...\n",
      "Added engineered columns...\n",
      "Filling NAs...\n",
      "Null value counts:\n",
      "Consumption    0\n",
      "Wind           0\n",
      "Solar          0\n",
      "Wind+Solar     0\n",
      "month          0\n",
      "year           0\n",
      "dtype: int64\n",
      "Data prep complete.\n"
     ]
    }
   ],
   "source": [
    "df2=prepare2()"
   ]
  },
  {
   "cell_type": "code",
   "execution_count": 51,
   "metadata": {},
   "outputs": [
    {
     "data": {
      "text/html": [
       "<div><div id=eb0fcab3-97f8-46db-8190-e927ed536c58 style=\"display:none; background-color:#9D6CFF; color:white; width:200px; height:30px; padding-left:5px; border-radius:4px; flex-direction:row; justify-content:space-around; align-items:center;\" onmouseover=\"this.style.backgroundColor='#BA9BF8'\" onmouseout=\"this.style.backgroundColor='#9D6CFF'\" onclick=\"window.commands?.execute('create-mitosheet-from-dataframe-output');\">See Full Dataframe in Mito</div> <script> if (window.commands.hasCommand('create-mitosheet-from-dataframe-output')) document.getElementById('eb0fcab3-97f8-46db-8190-e927ed536c58').style.display = 'flex' </script> <table border=\"1\" class=\"dataframe\">\n",
       "  <thead>\n",
       "    <tr style=\"text-align: right;\">\n",
       "      <th></th>\n",
       "      <th>Consumption</th>\n",
       "      <th>Wind</th>\n",
       "      <th>Solar</th>\n",
       "      <th>Wind+Solar</th>\n",
       "      <th>month</th>\n",
       "      <th>year</th>\n",
       "    </tr>\n",
       "    <tr>\n",
       "      <th>Date</th>\n",
       "      <th></th>\n",
       "      <th></th>\n",
       "      <th></th>\n",
       "      <th></th>\n",
       "      <th></th>\n",
       "      <th></th>\n",
       "    </tr>\n",
       "  </thead>\n",
       "  <tbody>\n",
       "    <tr>\n",
       "      <th>2006-01-01</th>\n",
       "      <td>1069.184</td>\n",
       "      <td>48.709</td>\n",
       "      <td>6.587</td>\n",
       "      <td>234.052</td>\n",
       "      <td>1</td>\n",
       "      <td>2006</td>\n",
       "    </tr>\n",
       "    <tr>\n",
       "      <th>2006-01-02</th>\n",
       "      <td>1380.521</td>\n",
       "      <td>48.709</td>\n",
       "      <td>6.587</td>\n",
       "      <td>234.052</td>\n",
       "      <td>1</td>\n",
       "      <td>2006</td>\n",
       "    </tr>\n",
       "    <tr>\n",
       "      <th>2006-01-03</th>\n",
       "      <td>1442.533</td>\n",
       "      <td>48.709</td>\n",
       "      <td>6.587</td>\n",
       "      <td>234.052</td>\n",
       "      <td>1</td>\n",
       "      <td>2006</td>\n",
       "    </tr>\n",
       "    <tr>\n",
       "      <th>2006-01-04</th>\n",
       "      <td>1457.217</td>\n",
       "      <td>48.709</td>\n",
       "      <td>6.587</td>\n",
       "      <td>234.052</td>\n",
       "      <td>1</td>\n",
       "      <td>2006</td>\n",
       "    </tr>\n",
       "    <tr>\n",
       "      <th>2006-01-05</th>\n",
       "      <td>1477.131</td>\n",
       "      <td>48.709</td>\n",
       "      <td>6.587</td>\n",
       "      <td>234.052</td>\n",
       "      <td>1</td>\n",
       "      <td>2006</td>\n",
       "    </tr>\n",
       "  </tbody>\n",
       "</table></div>"
      ],
      "text/plain": [
       "            Consumption    Wind  Solar  Wind+Solar  month  year\n",
       "Date                                                           \n",
       "2006-01-01     1069.184  48.709  6.587     234.052      1  2006\n",
       "2006-01-02     1380.521  48.709  6.587     234.052      1  2006\n",
       "2006-01-03     1442.533  48.709  6.587     234.052      1  2006\n",
       "2006-01-04     1457.217  48.709  6.587     234.052      1  2006\n",
       "2006-01-05     1477.131  48.709  6.587     234.052      1  2006"
      ]
     },
     "execution_count": 51,
     "metadata": {},
     "output_type": "execute_result"
    }
   ],
   "source": [
    "df2.head()"
   ]
  },
  {
   "cell_type": "code",
   "execution_count": 58,
   "metadata": {},
   "outputs": [],
   "source": [
    "import plotly.express as px\n"
   ]
  },
  {
   "cell_type": "code",
   "execution_count": 59,
   "metadata": {},
   "outputs": [],
   "source": [
    "import dash"
   ]
  },
  {
   "cell_type": "code",
   "execution_count": 60,
   "metadata": {},
   "outputs": [],
   "source": [
    "import dash_core_components as dcc\n",
    "import dash_html_components as html\n",
    "from dash.dependencies import Input, Output\n",
    "import plotly.graph_objects as go\n",
    "\n",
    "app = dash.Dash(__name__)"
   ]
  },
  {
   "cell_type": "code",
   "execution_count": 61,
   "metadata": {},
   "outputs": [],
   "source": [
    "app.layout = html.Div([\n",
    "    html.P(\"Color:\"),\n",
    "    dcc.Dropdown(\n",
    "        id=\"dropdown\",\n",
    "        options=[\n",
    "            {'label': x, 'value': x}\n",
    "            for x in ['Gold', 'MediumTurquoise', 'LightGreen']\n",
    "        ],\n",
    "        value='Gold',\n",
    "        clearable=False,\n",
    "    ),\n",
    "    dcc.Graph(id=\"graph\"),\n",
    "])"
   ]
  },
  {
   "cell_type": "code",
   "execution_count": 62,
   "metadata": {},
   "outputs": [
    {
     "name": "stdout",
     "output_type": "stream",
     "text": [
      "Dash is running on http://127.0.0.1:8050/\n",
      "\n"
     ]
    },
    {
     "name": "stderr",
     "output_type": "stream",
     "text": [
      "Dash is running on http://127.0.0.1:8050/\n",
      "\n"
     ]
    },
    {
     "name": "stdout",
     "output_type": "stream",
     "text": [
      " * Serving Flask app '__main__' (lazy loading)\n",
      " * Environment: production\n",
      "\u001b[31m   WARNING: This is a development server. Do not use it in a production deployment.\u001b[0m\n",
      "\u001b[2m   Use a production WSGI server instead.\u001b[0m\n",
      " * Debug mode: on\n"
     ]
    },
    {
     "name": "stderr",
     "output_type": "stream",
     "text": [
      "Traceback (most recent call last):\n",
      "  File \"/opt/homebrew/anaconda3/lib/python3.8/site-packages/ipykernel_launcher.py\", line 16, in <module>\n",
      "    app.launch_new_instance()\n",
      "  File \"/opt/homebrew/anaconda3/lib/python3.8/site-packages/traitlets/config/application.py\", line 845, in launch_instance\n",
      "    app.initialize(argv)\n",
      "  File \"/opt/homebrew/anaconda3/lib/python3.8/site-packages/traitlets/config/application.py\", line 88, in inner\n",
      "    return method(app, *args, **kwargs)\n",
      "  File \"/opt/homebrew/anaconda3/lib/python3.8/site-packages/ipykernel/kernelapp.py\", line 632, in initialize\n",
      "    self.init_sockets()\n",
      "  File \"/opt/homebrew/anaconda3/lib/python3.8/site-packages/ipykernel/kernelapp.py\", line 282, in init_sockets\n",
      "    self.shell_port = self._bind_socket(self.shell_socket, self.shell_port)\n",
      "  File \"/opt/homebrew/anaconda3/lib/python3.8/site-packages/ipykernel/kernelapp.py\", line 229, in _bind_socket\n",
      "    return self._try_bind_socket(s, port)\n",
      "  File \"/opt/homebrew/anaconda3/lib/python3.8/site-packages/ipykernel/kernelapp.py\", line 205, in _try_bind_socket\n",
      "    s.bind(\"tcp://%s:%i\" % (self.ip, port))\n",
      "  File \"/opt/homebrew/anaconda3/lib/python3.8/site-packages/zmq/sugar/socket.py\", line 214, in bind\n",
      "    super().bind(addr)\n",
      "  File \"zmq/backend/cython/socket.pyx\", line 540, in zmq.backend.cython.socket.Socket.bind\n",
      "  File \"zmq/backend/cython/checkrc.pxd\", line 28, in zmq.backend.cython.checkrc._check_rc\n",
      "zmq.error.ZMQError: Address already in use\n"
     ]
    },
    {
     "ename": "SystemExit",
     "evalue": "1",
     "output_type": "error",
     "traceback": [
      "An exception has occurred, use %tb to see the full traceback.\n",
      "\u001b[0;31mSystemExit\u001b[0m\u001b[0;31m:\u001b[0m 1\n"
     ]
    }
   ],
   "source": [
    "app.callback(\n",
    "    Output(\"graph\", \"figure\"), \n",
    "    [Input(\"dropdown\", \"value\")])\n",
    "def display_color(color):\n",
    "    fig = go.Figure(\n",
    "        data=go.Bar(y=[2, 3, 1], marker_color=color))\n",
    "    return fig\n",
    "\n",
    "app.run_server(debug=True)"
   ]
  },
  {
   "cell_type": "code",
   "execution_count": 63,
   "metadata": {},
   "outputs": [
    {
     "data": {
      "application/vnd.plotly.v1+json": {
       "config": {
        "plotlyServerURL": "https://plot.ly"
       },
       "data": [
        {
         "alignmentgroup": "True",
         "hovertemplate": "x=%{x}<br>y=%{y}<extra></extra>",
         "legendgroup": "",
         "marker": {
          "color": "#636efa",
          "pattern": {
           "shape": ""
          }
         },
         "name": "",
         "offsetgroup": "",
         "orientation": "v",
         "showlegend": false,
         "textposition": "auto",
         "type": "bar",
         "x": [
          "a",
          "b",
          "c"
         ],
         "xaxis": "x",
         "y": [
          1,
          3,
          2
         ],
         "yaxis": "y"
        }
       ],
       "layout": {
        "barmode": "relative",
        "legend": {
         "tracegroupgap": 0
        },
        "margin": {
         "t": 60
        },
        "template": {
         "data": {
          "bar": [
           {
            "error_x": {
             "color": "#2a3f5f"
            },
            "error_y": {
             "color": "#2a3f5f"
            },
            "marker": {
             "line": {
              "color": "#E5ECF6",
              "width": 0.5
             },
             "pattern": {
              "fillmode": "overlay",
              "size": 10,
              "solidity": 0.2
             }
            },
            "type": "bar"
           }
          ],
          "barpolar": [
           {
            "marker": {
             "line": {
              "color": "#E5ECF6",
              "width": 0.5
             },
             "pattern": {
              "fillmode": "overlay",
              "size": 10,
              "solidity": 0.2
             }
            },
            "type": "barpolar"
           }
          ],
          "carpet": [
           {
            "aaxis": {
             "endlinecolor": "#2a3f5f",
             "gridcolor": "white",
             "linecolor": "white",
             "minorgridcolor": "white",
             "startlinecolor": "#2a3f5f"
            },
            "baxis": {
             "endlinecolor": "#2a3f5f",
             "gridcolor": "white",
             "linecolor": "white",
             "minorgridcolor": "white",
             "startlinecolor": "#2a3f5f"
            },
            "type": "carpet"
           }
          ],
          "choropleth": [
           {
            "colorbar": {
             "outlinewidth": 0,
             "ticks": ""
            },
            "type": "choropleth"
           }
          ],
          "contour": [
           {
            "colorbar": {
             "outlinewidth": 0,
             "ticks": ""
            },
            "colorscale": [
             [
              0,
              "#0d0887"
             ],
             [
              0.1111111111111111,
              "#46039f"
             ],
             [
              0.2222222222222222,
              "#7201a8"
             ],
             [
              0.3333333333333333,
              "#9c179e"
             ],
             [
              0.4444444444444444,
              "#bd3786"
             ],
             [
              0.5555555555555556,
              "#d8576b"
             ],
             [
              0.6666666666666666,
              "#ed7953"
             ],
             [
              0.7777777777777778,
              "#fb9f3a"
             ],
             [
              0.8888888888888888,
              "#fdca26"
             ],
             [
              1,
              "#f0f921"
             ]
            ],
            "type": "contour"
           }
          ],
          "contourcarpet": [
           {
            "colorbar": {
             "outlinewidth": 0,
             "ticks": ""
            },
            "type": "contourcarpet"
           }
          ],
          "heatmap": [
           {
            "colorbar": {
             "outlinewidth": 0,
             "ticks": ""
            },
            "colorscale": [
             [
              0,
              "#0d0887"
             ],
             [
              0.1111111111111111,
              "#46039f"
             ],
             [
              0.2222222222222222,
              "#7201a8"
             ],
             [
              0.3333333333333333,
              "#9c179e"
             ],
             [
              0.4444444444444444,
              "#bd3786"
             ],
             [
              0.5555555555555556,
              "#d8576b"
             ],
             [
              0.6666666666666666,
              "#ed7953"
             ],
             [
              0.7777777777777778,
              "#fb9f3a"
             ],
             [
              0.8888888888888888,
              "#fdca26"
             ],
             [
              1,
              "#f0f921"
             ]
            ],
            "type": "heatmap"
           }
          ],
          "heatmapgl": [
           {
            "colorbar": {
             "outlinewidth": 0,
             "ticks": ""
            },
            "colorscale": [
             [
              0,
              "#0d0887"
             ],
             [
              0.1111111111111111,
              "#46039f"
             ],
             [
              0.2222222222222222,
              "#7201a8"
             ],
             [
              0.3333333333333333,
              "#9c179e"
             ],
             [
              0.4444444444444444,
              "#bd3786"
             ],
             [
              0.5555555555555556,
              "#d8576b"
             ],
             [
              0.6666666666666666,
              "#ed7953"
             ],
             [
              0.7777777777777778,
              "#fb9f3a"
             ],
             [
              0.8888888888888888,
              "#fdca26"
             ],
             [
              1,
              "#f0f921"
             ]
            ],
            "type": "heatmapgl"
           }
          ],
          "histogram": [
           {
            "marker": {
             "pattern": {
              "fillmode": "overlay",
              "size": 10,
              "solidity": 0.2
             }
            },
            "type": "histogram"
           }
          ],
          "histogram2d": [
           {
            "colorbar": {
             "outlinewidth": 0,
             "ticks": ""
            },
            "colorscale": [
             [
              0,
              "#0d0887"
             ],
             [
              0.1111111111111111,
              "#46039f"
             ],
             [
              0.2222222222222222,
              "#7201a8"
             ],
             [
              0.3333333333333333,
              "#9c179e"
             ],
             [
              0.4444444444444444,
              "#bd3786"
             ],
             [
              0.5555555555555556,
              "#d8576b"
             ],
             [
              0.6666666666666666,
              "#ed7953"
             ],
             [
              0.7777777777777778,
              "#fb9f3a"
             ],
             [
              0.8888888888888888,
              "#fdca26"
             ],
             [
              1,
              "#f0f921"
             ]
            ],
            "type": "histogram2d"
           }
          ],
          "histogram2dcontour": [
           {
            "colorbar": {
             "outlinewidth": 0,
             "ticks": ""
            },
            "colorscale": [
             [
              0,
              "#0d0887"
             ],
             [
              0.1111111111111111,
              "#46039f"
             ],
             [
              0.2222222222222222,
              "#7201a8"
             ],
             [
              0.3333333333333333,
              "#9c179e"
             ],
             [
              0.4444444444444444,
              "#bd3786"
             ],
             [
              0.5555555555555556,
              "#d8576b"
             ],
             [
              0.6666666666666666,
              "#ed7953"
             ],
             [
              0.7777777777777778,
              "#fb9f3a"
             ],
             [
              0.8888888888888888,
              "#fdca26"
             ],
             [
              1,
              "#f0f921"
             ]
            ],
            "type": "histogram2dcontour"
           }
          ],
          "mesh3d": [
           {
            "colorbar": {
             "outlinewidth": 0,
             "ticks": ""
            },
            "type": "mesh3d"
           }
          ],
          "parcoords": [
           {
            "line": {
             "colorbar": {
              "outlinewidth": 0,
              "ticks": ""
             }
            },
            "type": "parcoords"
           }
          ],
          "pie": [
           {
            "automargin": true,
            "type": "pie"
           }
          ],
          "scatter": [
           {
            "marker": {
             "colorbar": {
              "outlinewidth": 0,
              "ticks": ""
             }
            },
            "type": "scatter"
           }
          ],
          "scatter3d": [
           {
            "line": {
             "colorbar": {
              "outlinewidth": 0,
              "ticks": ""
             }
            },
            "marker": {
             "colorbar": {
              "outlinewidth": 0,
              "ticks": ""
             }
            },
            "type": "scatter3d"
           }
          ],
          "scattercarpet": [
           {
            "marker": {
             "colorbar": {
              "outlinewidth": 0,
              "ticks": ""
             }
            },
            "type": "scattercarpet"
           }
          ],
          "scattergeo": [
           {
            "marker": {
             "colorbar": {
              "outlinewidth": 0,
              "ticks": ""
             }
            },
            "type": "scattergeo"
           }
          ],
          "scattergl": [
           {
            "marker": {
             "colorbar": {
              "outlinewidth": 0,
              "ticks": ""
             }
            },
            "type": "scattergl"
           }
          ],
          "scattermapbox": [
           {
            "marker": {
             "colorbar": {
              "outlinewidth": 0,
              "ticks": ""
             }
            },
            "type": "scattermapbox"
           }
          ],
          "scatterpolar": [
           {
            "marker": {
             "colorbar": {
              "outlinewidth": 0,
              "ticks": ""
             }
            },
            "type": "scatterpolar"
           }
          ],
          "scatterpolargl": [
           {
            "marker": {
             "colorbar": {
              "outlinewidth": 0,
              "ticks": ""
             }
            },
            "type": "scatterpolargl"
           }
          ],
          "scatterternary": [
           {
            "marker": {
             "colorbar": {
              "outlinewidth": 0,
              "ticks": ""
             }
            },
            "type": "scatterternary"
           }
          ],
          "surface": [
           {
            "colorbar": {
             "outlinewidth": 0,
             "ticks": ""
            },
            "colorscale": [
             [
              0,
              "#0d0887"
             ],
             [
              0.1111111111111111,
              "#46039f"
             ],
             [
              0.2222222222222222,
              "#7201a8"
             ],
             [
              0.3333333333333333,
              "#9c179e"
             ],
             [
              0.4444444444444444,
              "#bd3786"
             ],
             [
              0.5555555555555556,
              "#d8576b"
             ],
             [
              0.6666666666666666,
              "#ed7953"
             ],
             [
              0.7777777777777778,
              "#fb9f3a"
             ],
             [
              0.8888888888888888,
              "#fdca26"
             ],
             [
              1,
              "#f0f921"
             ]
            ],
            "type": "surface"
           }
          ],
          "table": [
           {
            "cells": {
             "fill": {
              "color": "#EBF0F8"
             },
             "line": {
              "color": "white"
             }
            },
            "header": {
             "fill": {
              "color": "#C8D4E3"
             },
             "line": {
              "color": "white"
             }
            },
            "type": "table"
           }
          ]
         },
         "layout": {
          "annotationdefaults": {
           "arrowcolor": "#2a3f5f",
           "arrowhead": 0,
           "arrowwidth": 1
          },
          "autotypenumbers": "strict",
          "coloraxis": {
           "colorbar": {
            "outlinewidth": 0,
            "ticks": ""
           }
          },
          "colorscale": {
           "diverging": [
            [
             0,
             "#8e0152"
            ],
            [
             0.1,
             "#c51b7d"
            ],
            [
             0.2,
             "#de77ae"
            ],
            [
             0.3,
             "#f1b6da"
            ],
            [
             0.4,
             "#fde0ef"
            ],
            [
             0.5,
             "#f7f7f7"
            ],
            [
             0.6,
             "#e6f5d0"
            ],
            [
             0.7,
             "#b8e186"
            ],
            [
             0.8,
             "#7fbc41"
            ],
            [
             0.9,
             "#4d9221"
            ],
            [
             1,
             "#276419"
            ]
           ],
           "sequential": [
            [
             0,
             "#0d0887"
            ],
            [
             0.1111111111111111,
             "#46039f"
            ],
            [
             0.2222222222222222,
             "#7201a8"
            ],
            [
             0.3333333333333333,
             "#9c179e"
            ],
            [
             0.4444444444444444,
             "#bd3786"
            ],
            [
             0.5555555555555556,
             "#d8576b"
            ],
            [
             0.6666666666666666,
             "#ed7953"
            ],
            [
             0.7777777777777778,
             "#fb9f3a"
            ],
            [
             0.8888888888888888,
             "#fdca26"
            ],
            [
             1,
             "#f0f921"
            ]
           ],
           "sequentialminus": [
            [
             0,
             "#0d0887"
            ],
            [
             0.1111111111111111,
             "#46039f"
            ],
            [
             0.2222222222222222,
             "#7201a8"
            ],
            [
             0.3333333333333333,
             "#9c179e"
            ],
            [
             0.4444444444444444,
             "#bd3786"
            ],
            [
             0.5555555555555556,
             "#d8576b"
            ],
            [
             0.6666666666666666,
             "#ed7953"
            ],
            [
             0.7777777777777778,
             "#fb9f3a"
            ],
            [
             0.8888888888888888,
             "#fdca26"
            ],
            [
             1,
             "#f0f921"
            ]
           ]
          },
          "colorway": [
           "#636efa",
           "#EF553B",
           "#00cc96",
           "#ab63fa",
           "#FFA15A",
           "#19d3f3",
           "#FF6692",
           "#B6E880",
           "#FF97FF",
           "#FECB52"
          ],
          "font": {
           "color": "#2a3f5f"
          },
          "geo": {
           "bgcolor": "white",
           "lakecolor": "white",
           "landcolor": "#E5ECF6",
           "showlakes": true,
           "showland": true,
           "subunitcolor": "white"
          },
          "hoverlabel": {
           "align": "left"
          },
          "hovermode": "closest",
          "mapbox": {
           "style": "light"
          },
          "paper_bgcolor": "white",
          "plot_bgcolor": "#E5ECF6",
          "polar": {
           "angularaxis": {
            "gridcolor": "white",
            "linecolor": "white",
            "ticks": ""
           },
           "bgcolor": "#E5ECF6",
           "radialaxis": {
            "gridcolor": "white",
            "linecolor": "white",
            "ticks": ""
           }
          },
          "scene": {
           "xaxis": {
            "backgroundcolor": "#E5ECF6",
            "gridcolor": "white",
            "gridwidth": 2,
            "linecolor": "white",
            "showbackground": true,
            "ticks": "",
            "zerolinecolor": "white"
           },
           "yaxis": {
            "backgroundcolor": "#E5ECF6",
            "gridcolor": "white",
            "gridwidth": 2,
            "linecolor": "white",
            "showbackground": true,
            "ticks": "",
            "zerolinecolor": "white"
           },
           "zaxis": {
            "backgroundcolor": "#E5ECF6",
            "gridcolor": "white",
            "gridwidth": 2,
            "linecolor": "white",
            "showbackground": true,
            "ticks": "",
            "zerolinecolor": "white"
           }
          },
          "shapedefaults": {
           "line": {
            "color": "#2a3f5f"
           }
          },
          "ternary": {
           "aaxis": {
            "gridcolor": "white",
            "linecolor": "white",
            "ticks": ""
           },
           "baxis": {
            "gridcolor": "white",
            "linecolor": "white",
            "ticks": ""
           },
           "bgcolor": "#E5ECF6",
           "caxis": {
            "gridcolor": "white",
            "linecolor": "white",
            "ticks": ""
           }
          },
          "title": {
           "x": 0.05
          },
          "xaxis": {
           "automargin": true,
           "gridcolor": "white",
           "linecolor": "white",
           "ticks": "",
           "title": {
            "standoff": 15
           },
           "zerolinecolor": "white",
           "zerolinewidth": 2
          },
          "yaxis": {
           "automargin": true,
           "gridcolor": "white",
           "linecolor": "white",
           "ticks": "",
           "title": {
            "standoff": 15
           },
           "zerolinecolor": "white",
           "zerolinewidth": 2
          }
         }
        },
        "xaxis": {
         "anchor": "y",
         "domain": [
          0,
          1
         ],
         "title": {
          "text": "x"
         }
        },
        "yaxis": {
         "anchor": "x",
         "domain": [
          0,
          1
         ],
         "title": {
          "text": "y"
         }
        }
       }
      }
     },
     "metadata": {},
     "output_type": "display_data"
    }
   ],
   "source": [
    "import plotly.express as px\n",
    "fig = px.bar(x=[\"a\", \"b\", \"c\"], y=[1, 3, 2])\n",
    "fig.show()"
   ]
  },
  {
   "cell_type": "code",
   "execution_count": 64,
   "metadata": {},
   "outputs": [
    {
     "data": {
      "application/vnd.jupyter.widget-view+json": {
       "model_id": "da79aa4372fb4b5283c62c311700aea1",
       "version_major": 2,
       "version_minor": 0
      },
      "text/plain": [
       "FigureWidget({\n",
       "    'data': [{'alignmentgroup': 'True',\n",
       "              'hovertemplate': 'x=%{x}<br>y=%{y}<extra>…"
      ]
     },
     "metadata": {},
     "output_type": "display_data"
    }
   ],
   "source": [
    "import plotly.express as px\n",
    "fig = px.bar(x=[\"a\", \"b\", \"c\"], y=[1, 3, 2])\n",
    "\n",
    "import plotly.graph_objects as go\n",
    "fig_widget = go.FigureWidget(fig)\n",
    "fig_widget"
   ]
  },
  {
   "cell_type": "code",
   "execution_count": null,
   "metadata": {},
   "outputs": [],
   "source": []
  }
 ],
 "metadata": {
  "interpreter": {
   "hash": "38cca0c38332a56087b24af0bc80247f4fced29cb4f7f437d91dc159adec9c4e"
  },
  "kernelspec": {
   "display_name": "Python 3.8.12 64-bit ('base': conda)",
   "language": "python",
   "name": "python3"
  },
  "language_info": {
   "codemirror_mode": {
    "name": "ipython",
    "version": 3
   },
   "file_extension": ".py",
   "mimetype": "text/x-python",
   "name": "python",
   "nbconvert_exporter": "python",
   "pygments_lexer": "ipython3",
   "version": "3.8.12"
  },
  "orig_nbformat": 4
 },
 "nbformat": 4,
 "nbformat_minor": 2
}
