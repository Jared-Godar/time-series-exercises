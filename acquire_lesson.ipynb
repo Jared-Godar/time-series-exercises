{
 "cells": [
  {
   "cell_type": "markdown",
   "metadata": {},
   "source": [
    "# Curriculum Acquire code"
   ]
  },
  {
   "cell_type": "markdown",
   "metadata": {},
   "source": [
    "## Making HTTP Requests\n",
    "\n",
    "- The way we interact with web sites and web servers (including RESTful JSON APIs) is through HTTP **requests** and **responses**.\n",
    "\n",
    "- We can use the `requests` library to make http requests. This is somewhat the same as visiting a url in your browser, except that we can interact with the responses programatically in python."
   ]
  },
  {
   "cell_type": "code",
   "execution_count": 1,
   "metadata": {},
   "outputs": [],
   "source": [
    "import requests\n"
   ]
  },
  {
   "cell_type": "markdown",
   "metadata": {},
   "source": [
    "We will use the `get` function from `requests` and pass it a url:\n",
    "\n"
   ]
  },
  {
   "cell_type": "code",
   "execution_count": 2,
   "metadata": {},
   "outputs": [
    {
     "data": {
      "text/plain": [
       "<Response [200]>"
      ]
     },
     "execution_count": 2,
     "metadata": {},
     "output_type": "execute_result"
    }
   ],
   "source": [
    "response = requests.get('http://request-inspector.glitch.me/')\n",
    "response"
   ]
  },
  {
   "cell_type": "markdown",
   "metadata": {},
   "source": [
    "<p>We get back a python object that represents an HTTP response.</p>\n",
    "<p>The response object has several interesting properties:</p>\n",
    "<ul>\n",
    "<li><code>.ok</code>: a boolean that indicates that the response was successful (the server sent back a 200 response code)</li>\n",
    "<li><code>.status_code</code>: a number indicating the HTTP response status code </li>\n",
    "<li><code>.text</code>: the raw response text</li>\n",
    "</ul>"
   ]
  },
  {
   "cell_type": "code",
   "execution_count": 3,
   "metadata": {},
   "outputs": [
    {
     "data": {
      "text/plain": [
       "True"
      ]
     },
     "execution_count": 3,
     "metadata": {},
     "output_type": "execute_result"
    }
   ],
   "source": [
    "response.ok\n"
   ]
  },
  {
   "cell_type": "code",
   "execution_count": 4,
   "metadata": {},
   "outputs": [
    {
     "data": {
      "text/plain": [
       "200"
      ]
     },
     "execution_count": 4,
     "metadata": {},
     "output_type": "execute_result"
    }
   ],
   "source": [
    "response.status_code\n"
   ]
  },
  {
   "cell_type": "code",
   "execution_count": 5,
   "metadata": {},
   "outputs": [
    {
     "data": {
      "text/plain": [
       "'{\"method\":\"GET\",\"query\":{},\"body\":{}}'"
      ]
     },
     "execution_count": 5,
     "metadata": {},
     "output_type": "execute_result"
    }
   ],
   "source": [
    "response.text\n"
   ]
  },
  {
   "cell_type": "markdown",
   "metadata": {},
   "source": [
    "<p>In this case, we see a string that contains HTML. HTML is what makes up web pages that are intended for humans to read. If you go to http://example.com, you'll see what the HTML in the above response looks like when rendered. Some other endpoints on the internet return JSON, which is usually intended to be worked with programatically.</p>\n"
   ]
  },
  {
   "cell_type": "markdown",
   "metadata": {},
   "source": [
    "<h2 id=\"example-json-api\">Example JSON API</h2>\n",
    "<p>For an example of a JSON api, we'll interact with the <a href=\"https://aphorisms.glitch.me/\">a quote generator</a>.</p>\n"
   ]
  },
  {
   "cell_type": "code",
   "execution_count": 6,
   "metadata": {},
   "outputs": [
    {
     "name": "stdout",
     "output_type": "stream",
     "text": [
      "{\"name\":\"Leia Organa\",\"height\":\"150\",\"mass\":\"49\",\"hair_color\":\"brown\",\"skin_color\":\"light\",\"eye_color\":\"brown\",\"birth_year\":\"19BBY\",\"gender\":\"female\",\"homeworld\":\"https://swapi.dev/api/planets/2/\",\"films\":[\"https://swapi.dev/api/films/1/\",\"https://swapi.dev/api/films/2/\",\"https://swapi.dev/api/films/3/\",\"https://swapi.dev/api/films/6/\"],\"species\":[],\"vehicles\":[\"https://swapi.dev/api/vehicles/30/\"],\"starships\":[],\"created\":\"2014-12-10T15:20:09.791000Z\",\"edited\":\"2014-12-20T21:17:50.315000Z\",\"url\":\"https://swapi.dev/api/people/5/\"}\n"
     ]
    }
   ],
   "source": [
    "url = 'https://swapi.dev/api/people/5'\n",
    "response = requests.get(url)\n",
    "print(response.text)"
   ]
  },
  {
   "cell_type": "markdown",
   "metadata": {},
   "source": [
    "<p>Here we see that the repsonse we got back contains a JSON object (we could also verify this by visiting the URL in a web browser).</p>\n",
    "<p>Since the response is JSON, we can use the <code>.json</code> method on the response object to get a data structure we can work with:</p>"
   ]
  },
  {
   "cell_type": "code",
   "execution_count": 7,
   "metadata": {},
   "outputs": [
    {
     "name": "stdout",
     "output_type": "stream",
     "text": [
      "<class 'dict'>\n"
     ]
    },
    {
     "data": {
      "text/plain": [
       "{'name': 'Leia Organa',\n",
       " 'height': '150',\n",
       " 'mass': '49',\n",
       " 'hair_color': 'brown',\n",
       " 'skin_color': 'light',\n",
       " 'eye_color': 'brown',\n",
       " 'birth_year': '19BBY',\n",
       " 'gender': 'female',\n",
       " 'homeworld': 'https://swapi.dev/api/planets/2/',\n",
       " 'films': ['https://swapi.dev/api/films/1/',\n",
       "  'https://swapi.dev/api/films/2/',\n",
       "  'https://swapi.dev/api/films/3/',\n",
       "  'https://swapi.dev/api/films/6/'],\n",
       " 'species': [],\n",
       " 'vehicles': ['https://swapi.dev/api/vehicles/30/'],\n",
       " 'starships': [],\n",
       " 'created': '2014-12-10T15:20:09.791000Z',\n",
       " 'edited': '2014-12-20T21:17:50.315000Z',\n",
       " 'url': 'https://swapi.dev/api/people/5/'}"
      ]
     },
     "execution_count": 7,
     "metadata": {},
     "output_type": "execute_result"
    }
   ],
   "source": [
    "data = response.json()\n",
    "print(type(data))\n",
    "data"
   ]
  },
  {
   "cell_type": "markdown",
   "metadata": {},
   "source": [
    "<p>Now we have a dictionary that we can work with.</p>\n",
    "<p>Let's now take a look at another api. We'll start by looking at just the base URL:  </p>\n"
   ]
  },
  {
   "cell_type": "code",
   "execution_count": 8,
   "metadata": {},
   "outputs": [
    {
     "name": "stdout",
     "output_type": "stream",
     "text": [
      "{\"api\":\"/api/v1\",\"help\":\"/documentation\"}\n",
      "\n"
     ]
    }
   ],
   "source": [
    "base_url = 'https://python.zgulde.net'\n",
    "print(requests.get(base_url).text)"
   ]
  },
  {
   "cell_type": "code",
   "execution_count": 9,
   "metadata": {},
   "outputs": [
    {
     "data": {
      "text/plain": [
       "{'api': '/api/v1', 'help': '/documentation'}"
      ]
     },
     "execution_count": 9,
     "metadata": {},
     "output_type": "execute_result"
    }
   ],
   "source": [
    "{\"api\":\"/api/v1\",\"help\":\"/documentation\"}\n"
   ]
  },
  {
   "cell_type": "markdown",
   "metadata": {},
   "source": [
    "<p>This API provides some documentation, so let's make a request so that we can take a look at it.</p>\n"
   ]
  },
  {
   "cell_type": "code",
   "execution_count": 10,
   "metadata": {},
   "outputs": [
    {
     "name": "stdout",
     "output_type": "stream",
     "text": [
      "\n",
      "The API accepts GET requests for all endpoints, where endpoints are prefixed\n",
      "with\n",
      "\n",
      "    /api/{version}\n",
      "\n",
      "Where version is \"v1\"\n",
      "\n",
      "Valid endpoints:\n",
      "\n",
      "- /stores[/{store_id}]\n",
      "- /items[/{item_id}]\n",
      "- /sales[/{sale_id}]\n",
      "\n",
      "All endpoints accept a `page` parameter that can be used to navigate through\n",
      "the results.\n",
      "\n"
     ]
    }
   ],
   "source": [
    "response = requests.get(base_url + '/documentation')\n",
    "print(response.json()['payload'])"
   ]
  },
  {
   "cell_type": "markdown",
   "metadata": {},
   "source": [
    "<p>Based on this, let's take a look at the items. We'll make our request, and explore the shape of the response that we get back.</p>\n"
   ]
  },
  {
   "cell_type": "code",
   "execution_count": 11,
   "metadata": {},
   "outputs": [
    {
     "data": {
      "text/plain": [
       "dict_keys(['payload', 'status'])"
      ]
     },
     "execution_count": 11,
     "metadata": {},
     "output_type": "execute_result"
    }
   ],
   "source": [
    "response = requests.get('https://python.zgulde.net/api/v1/items')\n",
    "\n",
    "data = response.json()\n",
    "data.keys()"
   ]
  },
  {
   "cell_type": "code",
   "execution_count": 12,
   "metadata": {},
   "outputs": [
    {
     "data": {
      "text/plain": [
       "dict_keys(['items', 'max_page', 'next_page', 'page', 'previous_page'])"
      ]
     },
     "execution_count": 12,
     "metadata": {},
     "output_type": "execute_result"
    }
   ],
   "source": [
    "data['payload'].keys()\n"
   ]
  },
  {
   "cell_type": "code",
   "execution_count": 13,
   "metadata": {},
   "outputs": [
    {
     "name": "stdout",
     "output_type": "stream",
     "text": [
      "max_page: 3\n",
      "next_page: /api/v1/items?page=2\n"
     ]
    }
   ],
   "source": [
    "print('max_page: %s' % data['payload']['max_page'])\n",
    "print('next_page: %s' % data['payload']['next_page'])"
   ]
  },
  {
   "cell_type": "markdown",
   "metadata": {},
   "source": [
    "<p>Here the response has some built-in properties that tell us how to get to subsequent pages.</p>\n",
    "<p>Once we've drilled down into the data structure, we'll find that the entire response is a sort of wrapper around the <code>items</code> property:</p>\n"
   ]
  },
  {
   "cell_type": "code",
   "execution_count": 14,
   "metadata": {},
   "outputs": [
    {
     "data": {
      "text/plain": [
       "[{'item_brand': 'Riceland',\n",
       "  'item_id': 1,\n",
       "  'item_name': 'Riceland American Jazmine Rice',\n",
       "  'item_price': 0.84,\n",
       "  'item_upc12': '35200264013',\n",
       "  'item_upc14': '35200264013'},\n",
       " {'item_brand': 'Caress',\n",
       "  'item_id': 2,\n",
       "  'item_name': 'Caress Velvet Bliss Ultra Silkening Beauty Bar - 6 Ct',\n",
       "  'item_price': 6.44,\n",
       "  'item_upc12': '11111065925',\n",
       "  'item_upc14': '11111065925'}]"
      ]
     },
     "execution_count": 14,
     "metadata": {},
     "output_type": "execute_result"
    }
   ],
   "source": [
    "data['payload']['items'][:2]\n"
   ]
  },
  {
   "cell_type": "markdown",
   "metadata": {},
   "source": [
    "<p>We can turn this data into a pandas dataframe:</p>\n"
   ]
  },
  {
   "cell_type": "code",
   "execution_count": 15,
   "metadata": {},
   "outputs": [
    {
     "data": {
      "text/html": [
       "<div><div id=36b52583-6ae8-4b0b-9575-00635861904c style=\"display:none; background-color:#9D6CFF; color:white; width:200px; height:30px; padding-left:5px; border-radius:4px; flex-direction:row; justify-content:space-around; align-items:center;\" onmouseover=\"this.style.backgroundColor='#BA9BF8'\" onmouseout=\"this.style.backgroundColor='#9D6CFF'\" onclick=\"window.commands?.execute('create-mitosheet-from-dataframe-output');\">See Full Dataframe in Mito</div> <script> if (window.commands.hasCommand('create-mitosheet-from-dataframe-output')) document.getElementById('36b52583-6ae8-4b0b-9575-00635861904c').style.display = 'flex' </script> <table border=\"1\" class=\"dataframe\">\n",
       "  <thead>\n",
       "    <tr style=\"text-align: right;\">\n",
       "      <th></th>\n",
       "      <th>item_brand</th>\n",
       "      <th>item_id</th>\n",
       "      <th>item_name</th>\n",
       "      <th>item_price</th>\n",
       "      <th>item_upc12</th>\n",
       "      <th>item_upc14</th>\n",
       "    </tr>\n",
       "  </thead>\n",
       "  <tbody>\n",
       "    <tr>\n",
       "      <th>0</th>\n",
       "      <td>Riceland</td>\n",
       "      <td>1</td>\n",
       "      <td>Riceland American Jazmine Rice</td>\n",
       "      <td>0.84</td>\n",
       "      <td>35200264013</td>\n",
       "      <td>35200264013</td>\n",
       "    </tr>\n",
       "    <tr>\n",
       "      <th>1</th>\n",
       "      <td>Caress</td>\n",
       "      <td>2</td>\n",
       "      <td>Caress Velvet Bliss Ultra Silkening Beauty Bar - 6 Ct</td>\n",
       "      <td>6.44</td>\n",
       "      <td>11111065925</td>\n",
       "      <td>11111065925</td>\n",
       "    </tr>\n",
       "    <tr>\n",
       "      <th>2</th>\n",
       "      <td>Earths Best</td>\n",
       "      <td>3</td>\n",
       "      <td>Earths Best Organic Fruit Yogurt Smoothie Mixed Berry</td>\n",
       "      <td>2.43</td>\n",
       "      <td>23923330139</td>\n",
       "      <td>23923330139</td>\n",
       "    </tr>\n",
       "    <tr>\n",
       "      <th>3</th>\n",
       "      <td>Boars Head</td>\n",
       "      <td>4</td>\n",
       "      <td>Boars Head Sliced White American Cheese - 120 Ct</td>\n",
       "      <td>3.14</td>\n",
       "      <td>208528800007</td>\n",
       "      <td>208528800007</td>\n",
       "    </tr>\n",
       "    <tr>\n",
       "      <th>4</th>\n",
       "      <td>Back To Nature</td>\n",
       "      <td>5</td>\n",
       "      <td>Back To Nature Gluten Free White Cheddar Rice Thin Crackers</td>\n",
       "      <td>2.61</td>\n",
       "      <td>759283100036</td>\n",
       "      <td>759283100036</td>\n",
       "    </tr>\n",
       "  </tbody>\n",
       "</table></div>"
      ],
      "text/plain": [
       "       item_brand  item_id                                          item_name  \\\n",
       "0        Riceland        1                     Riceland American Jazmine Rice   \n",
       "1          Caress        2  Caress Velvet Bliss Ultra Silkening Beauty Bar...   \n",
       "2     Earths Best        3  Earths Best Organic Fruit Yogurt Smoothie Mixe...   \n",
       "3      Boars Head        4   Boars Head Sliced White American Cheese - 120 Ct   \n",
       "4  Back To Nature        5  Back To Nature Gluten Free White Cheddar Rice ...   \n",
       "\n",
       "   item_price    item_upc12    item_upc14  \n",
       "0        0.84   35200264013   35200264013  \n",
       "1        6.44   11111065925   11111065925  \n",
       "2        2.43   23923330139   23923330139  \n",
       "3        3.14  208528800007  208528800007  \n",
       "4        2.61  759283100036  759283100036  "
      ]
     },
     "execution_count": 15,
     "metadata": {},
     "output_type": "execute_result"
    }
   ],
   "source": [
    "import pandas as pd\n",
    "\n",
    "df = pd.DataFrame(data['payload']['items'])\n",
    "df.head()"
   ]
  },
  {
   "cell_type": "markdown",
   "metadata": {},
   "source": [
    "<p>Now that we've gotten the data from the first page, we can extract the data from the next page (as indicated by the API's response), and add it onto our dataframe:</p>\n"
   ]
  },
  {
   "cell_type": "code",
   "execution_count": 16,
   "metadata": {},
   "outputs": [
    {
     "name": "stdout",
     "output_type": "stream",
     "text": [
      "max_page: 3\n",
      "next_page: /api/v1/items?page=3\n"
     ]
    }
   ],
   "source": [
    "response = requests.get(base_url + data['payload']['next_page'])\n",
    "data = response.json()\n",
    "\n",
    "print('max_page: %s' % data['payload']['max_page'])\n",
    "print('next_page: %s' % data['payload']['next_page'])\n",
    "\n",
    "df = pd.concat([df, pd.DataFrame(data['payload']['items'])]).reset_index()"
   ]
  },
  {
   "cell_type": "markdown",
   "metadata": {},
   "source": [
    "<p>We'll repeat the process one more time:</p>\n"
   ]
  },
  {
   "cell_type": "code",
   "execution_count": 17,
   "metadata": {},
   "outputs": [
    {
     "name": "stdout",
     "output_type": "stream",
     "text": [
      "max_page: 3\n",
      "next_page: None\n"
     ]
    }
   ],
   "source": [
    "response = requests.get(base_url + data['payload']['next_page'])\n",
    "data = response.json()\n",
    "\n",
    "print('max_page: %s' % data['payload']['max_page'])\n",
    "print('next_page: %s' % data['payload']['next_page'])\n",
    "\n",
    "df = pd.concat([df, pd.DataFrame(data['payload']['items'])]).reset_index()"
   ]
  },
  {
   "cell_type": "markdown",
   "metadata": {},
   "source": [
    "<p>Now that the API says that the <code>next_page</code> is None, we'll stop making requests, and assume that we have all of the <code>items</code> data.</p>\n"
   ]
  },
  {
   "cell_type": "code",
   "execution_count": 18,
   "metadata": {},
   "outputs": [
    {
     "data": {
      "text/plain": [
       "(50, 8)"
      ]
     },
     "execution_count": 18,
     "metadata": {},
     "output_type": "execute_result"
    }
   ],
   "source": [
    "df.shape"
   ]
  },
  {
   "cell_type": "code",
   "execution_count": 19,
   "metadata": {},
   "outputs": [
    {
     "data": {
      "text/html": [
       "<div><div id=aa06aff8-e3d8-4428-aee4-f72e1ff5824a style=\"display:none; background-color:#9D6CFF; color:white; width:200px; height:30px; padding-left:5px; border-radius:4px; flex-direction:row; justify-content:space-around; align-items:center;\" onmouseover=\"this.style.backgroundColor='#BA9BF8'\" onmouseout=\"this.style.backgroundColor='#9D6CFF'\" onclick=\"window.commands?.execute('create-mitosheet-from-dataframe-output');\">See Full Dataframe in Mito</div> <script> if (window.commands.hasCommand('create-mitosheet-from-dataframe-output')) document.getElementById('aa06aff8-e3d8-4428-aee4-f72e1ff5824a').style.display = 'flex' </script> <table border=\"1\" class=\"dataframe\">\n",
       "  <thead>\n",
       "    <tr style=\"text-align: right;\">\n",
       "      <th></th>\n",
       "      <th>level_0</th>\n",
       "      <th>index</th>\n",
       "      <th>item_brand</th>\n",
       "      <th>item_id</th>\n",
       "      <th>item_name</th>\n",
       "      <th>item_price</th>\n",
       "      <th>item_upc12</th>\n",
       "      <th>item_upc14</th>\n",
       "    </tr>\n",
       "  </thead>\n",
       "  <tbody>\n",
       "    <tr>\n",
       "      <th>0</th>\n",
       "      <td>0</td>\n",
       "      <td>0.0</td>\n",
       "      <td>Riceland</td>\n",
       "      <td>1</td>\n",
       "      <td>Riceland American Jazmine Rice</td>\n",
       "      <td>0.84</td>\n",
       "      <td>35200264013</td>\n",
       "      <td>35200264013</td>\n",
       "    </tr>\n",
       "    <tr>\n",
       "      <th>1</th>\n",
       "      <td>1</td>\n",
       "      <td>1.0</td>\n",
       "      <td>Caress</td>\n",
       "      <td>2</td>\n",
       "      <td>Caress Velvet Bliss Ultra Silkening Beauty Bar - 6 Ct</td>\n",
       "      <td>6.44</td>\n",
       "      <td>11111065925</td>\n",
       "      <td>11111065925</td>\n",
       "    </tr>\n",
       "    <tr>\n",
       "      <th>2</th>\n",
       "      <td>2</td>\n",
       "      <td>2.0</td>\n",
       "      <td>Earths Best</td>\n",
       "      <td>3</td>\n",
       "      <td>Earths Best Organic Fruit Yogurt Smoothie Mixed Berry</td>\n",
       "      <td>2.43</td>\n",
       "      <td>23923330139</td>\n",
       "      <td>23923330139</td>\n",
       "    </tr>\n",
       "    <tr>\n",
       "      <th>3</th>\n",
       "      <td>3</td>\n",
       "      <td>3.0</td>\n",
       "      <td>Boars Head</td>\n",
       "      <td>4</td>\n",
       "      <td>Boars Head Sliced White American Cheese - 120 Ct</td>\n",
       "      <td>3.14</td>\n",
       "      <td>208528800007</td>\n",
       "      <td>208528800007</td>\n",
       "    </tr>\n",
       "    <tr>\n",
       "      <th>4</th>\n",
       "      <td>4</td>\n",
       "      <td>4.0</td>\n",
       "      <td>Back To Nature</td>\n",
       "      <td>5</td>\n",
       "      <td>Back To Nature Gluten Free White Cheddar Rice Thin Crackers</td>\n",
       "      <td>2.61</td>\n",
       "      <td>759283100036</td>\n",
       "      <td>759283100036</td>\n",
       "    </tr>\n",
       "    <tr>\n",
       "      <th>...</th>\n",
       "      <td>...</td>\n",
       "      <td>...</td>\n",
       "      <td>...</td>\n",
       "      <td>...</td>\n",
       "      <td>...</td>\n",
       "      <td>...</td>\n",
       "      <td>...</td>\n",
       "      <td>...</td>\n",
       "    </tr>\n",
       "    <tr>\n",
       "      <th>45</th>\n",
       "      <td>5</td>\n",
       "      <td>NaN</td>\n",
       "      <td>Mama Marys</td>\n",
       "      <td>46</td>\n",
       "      <td>Pizza Sauce</td>\n",
       "      <td>4.65</td>\n",
       "      <td>35457770664</td>\n",
       "      <td>35457770664</td>\n",
       "    </tr>\n",
       "    <tr>\n",
       "      <th>46</th>\n",
       "      <td>6</td>\n",
       "      <td>NaN</td>\n",
       "      <td>Bear Naked</td>\n",
       "      <td>47</td>\n",
       "      <td>Bear Naked Fit Almond Crisp 100 Percent Natural Energy Cereal</td>\n",
       "      <td>7.38</td>\n",
       "      <td>884623708976</td>\n",
       "      <td>884623708976</td>\n",
       "    </tr>\n",
       "    <tr>\n",
       "      <th>47</th>\n",
       "      <td>7</td>\n",
       "      <td>NaN</td>\n",
       "      <td>Dove</td>\n",
       "      <td>48</td>\n",
       "      <td>Dove Men + Care Antiperspirant Deodorant Cool Silver</td>\n",
       "      <td>3.72</td>\n",
       "      <td>79400271631</td>\n",
       "      <td>79400271631</td>\n",
       "    </tr>\n",
       "    <tr>\n",
       "      <th>48</th>\n",
       "      <td>8</td>\n",
       "      <td>NaN</td>\n",
       "      <td>Easy-off</td>\n",
       "      <td>49</td>\n",
       "      <td>Easy-off Oven Cleaner Lemon Scent</td>\n",
       "      <td>9.54</td>\n",
       "      <td>62338879772</td>\n",
       "      <td>62338879772</td>\n",
       "    </tr>\n",
       "    <tr>\n",
       "      <th>49</th>\n",
       "      <td>9</td>\n",
       "      <td>NaN</td>\n",
       "      <td>Choice</td>\n",
       "      <td>50</td>\n",
       "      <td>Choice Organic Teas Black Tea Classic Black - 16 Ct</td>\n",
       "      <td>5.20</td>\n",
       "      <td>47445919221</td>\n",
       "      <td>47445919221</td>\n",
       "    </tr>\n",
       "  </tbody>\n",
       "</table></div>"
      ],
      "text/plain": [
       "    level_0  index              item_brand  item_id  \\\n",
       "0         0    0.0                Riceland        1   \n",
       "1         1    1.0                  Caress        2   \n",
       "2         2    2.0             Earths Best        3   \n",
       "3         3    3.0              Boars Head        4   \n",
       "4         4    4.0          Back To Nature        5   \n",
       "5         5    5.0            Sally Hansen        6   \n",
       "6         6    6.0      Twinings Of London        7   \n",
       "7         7    7.0           Lea & Perrins        8   \n",
       "8         8    8.0            Van De Kamps        9   \n",
       "9         9    9.0                   Ahold       10   \n",
       "10       10   10.0              Honest Tea       11   \n",
       "11       11   11.0                 Mueller       12   \n",
       "12       12   12.0   Garnier Nutritioniste       13   \n",
       "13       13   13.0                 Pamprin       14   \n",
       "14       14   14.0                   Suave       15   \n",
       "15       15   15.0              Burts Bees       16   \n",
       "16       16   16.0                   Ducal       17   \n",
       "17       17   17.0                  Scotch       18   \n",
       "18       18   18.0                 Careone       19   \n",
       "19       19   19.0            Usda Produce       20   \n",
       "20       20    0.0            Doctors Best       21   \n",
       "21       21    1.0           Betty Crocker       22   \n",
       "22       22    2.0                   Reese       23   \n",
       "23       23    3.0            Smart Living       24   \n",
       "24       24    4.0                    Hood       25   \n",
       "25       25    5.0               Triaminic       26   \n",
       "26       26    6.0                  Morton       27   \n",
       "27       27    7.0            Usda Produce       28   \n",
       "28       28    8.0                   Heinz       29   \n",
       "29       29    9.0                 Petmate       30   \n",
       "30       30   10.0        Zhenas Gypsy Tea       31   \n",
       "31       31   11.0                Barefoot       32   \n",
       "32       32   12.0         The First Years       33   \n",
       "33       33   13.0                   Halls       34   \n",
       "34       34   14.0             Natures Way       35   \n",
       "35       35   15.0  Deerfields Gluten Free       36   \n",
       "36       36   16.0                  Nakano       37   \n",
       "37       37   17.0        Sundown Naturals       38   \n",
       "38       38   18.0                Munchies       39   \n",
       "39       39   19.0                    Amys       40   \n",
       "40        0    NaN             P.f. Changs       41   \n",
       "41        1    NaN      Moms Best Naturals       42   \n",
       "42        2    NaN                 Ferrara       43   \n",
       "43        3    NaN                  Elmers       44   \n",
       "44        4    NaN                Kelloggs       45   \n",
       "45        5    NaN              Mama Marys       46   \n",
       "46        6    NaN              Bear Naked       47   \n",
       "47        7    NaN                    Dove       48   \n",
       "48        8    NaN                Easy-off       49   \n",
       "49        9    NaN                  Choice       50   \n",
       "\n",
       "                                            item_name  item_price  \\\n",
       "0                      Riceland American Jazmine Rice        0.84   \n",
       "1   Caress Velvet Bliss Ultra Silkening Beauty Bar...        6.44   \n",
       "2   Earths Best Organic Fruit Yogurt Smoothie Mixe...        2.43   \n",
       "3    Boars Head Sliced White American Cheese - 120 Ct        3.14   \n",
       "4   Back To Nature Gluten Free White Cheddar Rice ...        2.61   \n",
       "5   Sally Hansen Nail Color Magnetic 903 Silver El...        6.93   \n",
       "6   Twinings Of London Classics Lady Grey Tea - 20 Ct        9.64   \n",
       "7   Lea & Perrins Marinade In-a-bag Cracked Pepper...        1.68   \n",
       "8          Van De Kamps Fillets Beer Battered - 10 Ct        1.79   \n",
       "9                                 Ahold Cocoa Almonds        3.17   \n",
       "10                         Honest Tea Peach White Tea        3.93   \n",
       "11  Mueller Sport Care Basic Support Level Medium ...        8.40   \n",
       "12  Garnier Nutritioniste Moisture Rescue Fresh Cl...        6.47   \n",
       "13  Pamprin Maximum Strength Multi-symptom Menstru...        7.54   \n",
       "14  Suave Naturals Moisturizing Body Wash Creamy T...        9.11   \n",
       "15      Burts Bees Daily Moisturizing Cream Sensitive        5.17   \n",
       "16                            Ducal Refried Red Beans        1.16   \n",
       "17    Scotch Removable Clear Mounting Squares - 35 Ct        4.39   \n",
       "18                     Careone Family Comb Set - 8 Ct        0.74   \n",
       "19                                        Plums Black        5.62   \n",
       "20  Doctors Best Best Curcumin C3 Complex 1000mg T...        8.09   \n",
       "21  Betty Crocker Twin Pack Real Potatoes Scallope...        7.31   \n",
       "22     Reese Mandarin Oranges Segments In Light Syrup        1.78   \n",
       "23                Smart Living Charcoal Lighter Fluid        5.34   \n",
       "24         Hood Latte Iced Coffee Drink Vanilla Latte        2.43   \n",
       "25  Triaminic Syrup Night Time Cold & Cough Grape 4oz        0.98   \n",
       "26                          Morton Kosher Salt Coarse        6.01   \n",
       "27                                              Guava        7.52   \n",
       "28                        Heinz Tomato Ketchup - 2 Ct        8.65   \n",
       "29  Petmate Booda Bones Steak Bacon & Chicken Flav...        8.39   \n",
       "30  Zhenas Gypsy Tea Herbal Red Tea Sachets Fire L...        4.21   \n",
       "31                         Barefoot Pinot Grigio  187        0.68   \n",
       "32  Tomy The First Years Gumdrop Orthodontic Pacif...        6.52   \n",
       "33  Halls Menthol Cough Suppresant/oral Anesthetic...        4.17   \n",
       "34                     Natures Way Forskohlii - 60 Ct        5.19   \n",
       "35           Rice Bran Gluten Free Dinner Rolls Plain        7.95   \n",
       "36              Nakano Seasoned Rice Vinegar Original        9.59   \n",
       "37  Sundown Naturals Essential Electrolytes Tropic...        3.45   \n",
       "38  Munchies Sandwich Crackers Cheddar Cheese On G...        9.02   \n",
       "39               Amys Light & Lean Spaghetti Italiano        0.60   \n",
       "40  P.f. Changs Home Menu Meal For Two Beef With B...        5.62   \n",
       "41  Moms Best Naturals Cereal Toasted Cinnamon Squ...        2.97   \n",
       "42                              Ferrara Vanilla Syrup        8.40   \n",
       "43                Elmers Board Mate Dual Tip Glue Pen        7.06   \n",
       "44                Kelloggs Disney Pixar Cars 2 Cereal        4.40   \n",
       "45                                        Pizza Sauce        4.65   \n",
       "46  Bear Naked Fit Almond Crisp 100 Percent Natura...        7.38   \n",
       "47  Dove Men + Care Antiperspirant Deodorant Cool ...        3.72   \n",
       "48                  Easy-off Oven Cleaner Lemon Scent        9.54   \n",
       "49  Choice Organic Teas Black Tea Classic Black - ...        5.20   \n",
       "\n",
       "      item_upc12    item_upc14  \n",
       "0    35200264013   35200264013  \n",
       "1    11111065925   11111065925  \n",
       "2    23923330139   23923330139  \n",
       "3   208528800007  208528800007  \n",
       "4   759283100036  759283100036  \n",
       "5    74170388732   74170388732  \n",
       "6    70177154004   70177154004  \n",
       "7    51600080015   51600080015  \n",
       "8    19600923015   19600923015  \n",
       "9   688267141676  688267141676  \n",
       "10  657622604842  657622604842  \n",
       "11   74676640211   74676640211  \n",
       "12  603084234561  603084234561  \n",
       "13   41167300121   41167300121  \n",
       "14   79400847201   79400847201  \n",
       "15  792850014008  792850014008  \n",
       "16   88313590791   88313590791  \n",
       "17   21200725340   21200725340  \n",
       "18   41520035646   41520035646  \n",
       "19  204040000000  204040000000  \n",
       "20  753950001954  753950001954  \n",
       "21   16000288829   16000288829  \n",
       "22   70670009658   70670009658  \n",
       "23  688267084225  688267084225  \n",
       "24   44100117428   44100117428  \n",
       "25  300436344045  300436344045  \n",
       "26   24600017008   24600017008  \n",
       "27  719175900007  719175900007  \n",
       "28   13000001038   13000001038  \n",
       "29  723503568678  723503568678  \n",
       "30  652790100226  652790100226  \n",
       "31    8500004528    8500004528  \n",
       "32   71463060078   71463060078  \n",
       "33  312546628694  312546628694  \n",
       "34   33674100066   33674100066  \n",
       "35  610358991525  610358991525  \n",
       "36   73575295003   73575295003  \n",
       "37   30768540548   30768540548  \n",
       "38   28400029254   28400029254  \n",
       "39   42272008063   42272008063  \n",
       "40   31000670016   31000670016  \n",
       "41  883978129115  883978129115  \n",
       "42   71403000379   71403000379  \n",
       "43   26000001403   26000001403  \n",
       "44   38000542237   38000542237  \n",
       "45   35457770664   35457770664  \n",
       "46  884623708976  884623708976  \n",
       "47   79400271631   79400271631  \n",
       "48   62338879772   62338879772  \n",
       "49   47445919221   47445919221  "
      ]
     },
     "execution_count": 19,
     "metadata": {},
     "output_type": "execute_result"
    }
   ],
   "source": [
    "df"
   ]
  },
  {
   "cell_type": "markdown",
   "metadata": {},
   "source": [
    "<h2 id=\"further-reading\">Further Reading</h2>\n",
    "<ul>\n",
    "<li><a href=\"https://www.dataquest.io/blog/python-api-tutorial/\">Using APIs in Python</a></li>\n",
    "<li><a href=\"https://www.smashingmagazine.com/2018/01/understanding-using-rest-api/\">Understand and using REST APIs</a></li>\n",
    "</ul>"
   ]
  }
 ],
 "metadata": {
  "interpreter": {
   "hash": "38cca0c38332a56087b24af0bc80247f4fced29cb4f7f437d91dc159adec9c4e"
  },
  "kernelspec": {
   "display_name": "Python 3.8.12 64-bit ('base': conda)",
   "language": "python",
   "name": "python3"
  },
  "language_info": {
   "codemirror_mode": {
    "name": "ipython",
    "version": 3
   },
   "file_extension": ".py",
   "mimetype": "text/x-python",
   "name": "python",
   "nbconvert_exporter": "python",
   "pygments_lexer": "ipython3",
   "version": "3.8.12"
  },
  "orig_nbformat": 4
 },
 "nbformat": 4,
 "nbformat_minor": 2
}
